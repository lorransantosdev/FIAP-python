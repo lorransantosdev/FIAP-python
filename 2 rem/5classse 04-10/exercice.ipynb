{
 "cells": [
  {
   "cell_type": "code",
   "execution_count": null,
   "metadata": {},
   "outputs": [],
   "source": [
    "#funcao dentro de funao\n",
    "\n",
    "#1 crie uma estrutura com função a qual solicite 5 numeros para um usuario\n",
    "#apos isso crie uma nova função para calcular a sima dos valores inseridos na lista. Em seguida, crie uma funçõa para retornar a media dos valores da lista\n",
    "\n",
    "\n"
   ]
  },
  {
   "cell_type": "code",
   "execution_count": 20,
   "metadata": {},
   "outputs": [
    {
     "ename": "TypeError",
     "evalue": "object of type 'int' has no len()",
     "output_type": "error",
     "traceback": [
      "\u001b[1;31m---------------------------------------------------------------------------\u001b[0m",
      "\u001b[1;31mTypeError\u001b[0m                                 Traceback (most recent call last)",
      "Cell \u001b[1;32mIn[20], line 18\u001b[0m\n\u001b[0;32m     15\u001b[0m     media \u001b[38;5;241m=\u001b[39m soma() \u001b[38;5;241m/\u001b[39m \u001b[38;5;28mlen\u001b[39m(\u001b[38;5;241m5\u001b[39m)\n\u001b[0;32m     16\u001b[0m     \u001b[38;5;28;01mreturn\u001b[39;00m media\n\u001b[1;32m---> 18\u001b[0m \u001b[38;5;28mprint\u001b[39m(\u001b[43mmedia_number\u001b[49m\u001b[43m(\u001b[49m\u001b[43m)\u001b[49m)\n",
      "Cell \u001b[1;32mIn[20], line 15\u001b[0m, in \u001b[0;36mmedia_number\u001b[1;34m()\u001b[0m\n\u001b[0;32m     14\u001b[0m \u001b[38;5;28;01mdef\u001b[39;00m \u001b[38;5;21mmedia_number\u001b[39m():\n\u001b[1;32m---> 15\u001b[0m     media \u001b[38;5;241m=\u001b[39m soma() \u001b[38;5;241m/\u001b[39m \u001b[38;5;28;43mlen\u001b[39;49m\u001b[43m(\u001b[49m\u001b[38;5;241;43m5\u001b[39;49m\u001b[43m)\u001b[49m\n\u001b[0;32m     16\u001b[0m     \u001b[38;5;28;01mreturn\u001b[39;00m media\n",
      "\u001b[1;31mTypeError\u001b[0m: object of type 'int' has no len()"
     ]
    }
   ],
   "source": [
    "\n",
    "\n",
    "def solicite():\n",
    "    lista_number = []\n",
    "    for i in range(5):\n",
    "        i = float(input(\"enter a number\"))\n",
    "        lista_number.append(i)\n",
    "\n",
    "    return lista_number\n",
    "\n",
    "def soma():\n",
    "    soma_number = 0\n",
    "    soma_number = sum(solicite())\n",
    "    return soma_number\n",
    "\n",
    "def media_number():\n",
    "    media = soma() / len(5)\n",
    "    return media\n",
    "\n",
    "print(media_number())"
   ]
  },
  {
   "cell_type": "code",
   "execution_count": 21,
   "metadata": {},
   "outputs": [
    {
     "name": "stdout",
     "output_type": "stream",
     "text": [
      "[-12.222222222222221, -6.666666666666667, 10.0, -1.1111111111111112, 10.0]\n"
     ]
    }
   ],
   "source": [
    "#estrutura de repeticao com whule, true e try\n",
    "\n",
    "celsius_lista = []\n",
    "\n",
    "while True:\n",
    "    entrada = input(\"temperatura em Fahrenheit\")\n",
    "\n",
    "    if entrada.lower() == 'sair':\n",
    "        break\n",
    "\n",
    "    try:\n",
    "        fahrenheit = float(entrada)\n",
    "        celsius = (fahrenheit - 32) * 5 / 9\n",
    "        celsius_lista.append(celsius)\n",
    "\n",
    "    except ValueError:\n",
    "        print('valor invalido')\n",
    "\n",
    "print(celsius_lista)"
   ]
  }
 ],
 "metadata": {
  "kernelspec": {
   "display_name": "Python 3",
   "language": "python",
   "name": "python3"
  },
  "language_info": {
   "codemirror_mode": {
    "name": "ipython",
    "version": 3
   },
   "file_extension": ".py",
   "mimetype": "text/x-python",
   "name": "python",
   "nbconvert_exporter": "python",
   "pygments_lexer": "ipython3",
   "version": "3.12.3"
  }
 },
 "nbformat": 4,
 "nbformat_minor": 2
}
