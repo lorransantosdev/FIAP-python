{
 "cells": [
  {
   "cell_type": "code",
   "execution_count": null,
   "metadata": {},
   "outputs": [],
   "source": [
    "def divisao(a, b):\n",
    "\n",
    "    operation = a / b\n",
    "\n",
    "    return operation"
   ]
  },
  {
   "cell_type": "markdown",
   "metadata": {},
   "source": [
    "##### First exemple of Lambda structure"
   ]
  },
  {
   "cell_type": "code",
   "execution_count": 1,
   "metadata": {},
   "outputs": [
    {
     "data": {
      "text/plain": [
       "0.2"
      ]
     },
     "execution_count": 1,
     "metadata": {},
     "output_type": "execute_result"
    }
   ],
   "source": [
    "resultado = lambda a, b: a / b\n",
    "\n",
    "resultado(10, 50)"
   ]
  },
  {
   "cell_type": "code",
   "execution_count": 1,
   "metadata": {},
   "outputs": [
    {
     "name": "stdout",
     "output_type": "stream",
     "text": [
      "40\n",
      "0\n",
      "400\n",
      "1.0\n"
     ]
    }
   ],
   "source": [
    "soma = lambda a, b: a + b\n",
    "sub = lambda a, b: a - b\n",
    "mult = lambda a, b: a * b\n",
    "div = lambda a, b: a / b\n",
    "\n",
    "print(soma(20, 20))\n",
    "print(sub(20, 20))\n",
    "print(mult(20, 20))\n",
    "print(div(20, 20))"
   ]
  },
  {
   "cell_type": "markdown",
   "metadata": {},
   "source": [
    "##### Lambda with texts concat"
   ]
  },
  {
   "cell_type": "code",
   "execution_count": 2,
   "metadata": {},
   "outputs": [
    {
     "name": "stdout",
     "output_type": "stream",
     "text": [
      "Python is cool\n"
     ]
    }
   ],
   "source": [
    "concat = lambda s1, s2: s1 + \" is \" + s2\n",
    "\n",
    "print(concat('Python', 'cool'))"
   ]
  },
  {
   "cell_type": "code",
   "execution_count": 3,
   "metadata": {},
   "outputs": [
    {
     "name": "stdout",
     "output_type": "stream",
     "text": [
      "HELLO HOW ARE YOU\n",
      "i am fine\n"
     ]
    }
   ],
   "source": [
    "maiusculo = lambda s: s.upper()\n",
    "minusculo = lambda s: s.lower()\n",
    "\n",
    "min = input(\"Enter a text in lower\")\n",
    "mai = input(\"Enter a text in upper\")\n",
    "\n",
    "print(maiusculo(min))\n",
    "print(minusculo(mai))"
   ]
  },
  {
   "cell_type": "markdown",
   "metadata": {},
   "source": [
    "##### Conditional Structure"
   ]
  },
  {
   "cell_type": "code",
   "execution_count": null,
   "metadata": {},
   "outputs": [],
   "source": [
    "nota = float(input(\"Write a number\"))\n",
    "\n",
    "if nota >= 7:\n",
    "    print('A')\n",
    "\n",
    "elif 5 <= nota <7:\n",
    "    print('B')\n",
    "\n",
    "else:\n",
    "    print('C')\n"
   ]
  },
  {
   "cell_type": "markdown",
   "metadata": {},
   "source": [
    "##### Function frame"
   ]
  },
  {
   "cell_type": "code",
   "execution_count": null,
   "metadata": {},
   "outputs": [],
   "source": [
    "def conceito(nota):\n",
    "    n1 = float(input(\"Write a number\"))\n",
    "    \n",
    "    if nota >= 7:\n",
    "        return 'A'\n",
    "\n",
    "    elif 5 <= nota <7:\n",
    "        return 'B'\n",
    "\n",
    "    else:\n",
    "        return 'C'\n",
    "\n"
   ]
  },
  {
   "cell_type": "markdown",
   "metadata": {},
   "source": [
    "##### With Lambda - obs: no have 'elif'"
   ]
  },
  {
   "cell_type": "code",
   "execution_count": 7,
   "metadata": {},
   "outputs": [
    {
     "name": "stdout",
     "output_type": "stream",
     "text": [
      "B\n"
     ]
    }
   ],
   "source": [
    "avaliacao = lambda nota: 'A' if nota >= 7 else('B' if nota >= 5 else 'C')\n",
    "\n",
    "print(avaliacao(5))"
   ]
  },
  {
   "cell_type": "markdown",
   "metadata": {},
   "source": [
    "#### 1 QUESTION: Create a structure to show whether the person is a child, teenager, adult or elderly depending on their age"
   ]
  },
  {
   "cell_type": "markdown",
   "metadata": {},
   "source": [
    "##### idade <12 - criança | idade <18 - adolescente | idade <60 - adulto | idade >60 - idoso"
   ]
  },
  {
   "cell_type": "code",
   "execution_count": 12,
   "metadata": {},
   "outputs": [
    {
     "name": "stdout",
     "output_type": "stream",
     "text": [
      "Velho\n"
     ]
    }
   ],
   "source": [
    "faixa_etaria = lambda idade: 'Criança' if idade < 12 else('Adolescente' if idade < 18 else('Adulto' if idade < 60 else 'Velho'))\n",
    "\n",
    "print(faixa_etaria(int(input('Enter your age'))))"
   ]
  },
  {
   "cell_type": "markdown",
   "metadata": {},
   "source": [
    "#### With list, but no lambda"
   ]
  },
  {
   "cell_type": "code",
   "execution_count": 14,
   "metadata": {},
   "outputs": [
    {
     "name": "stdout",
     "output_type": "stream",
     "text": [
      "[1, 4, 9, 16, 25, 36]\n"
     ]
    }
   ],
   "source": [
    "numbers = [1, 2, 3, 4, 5, 6]\n",
    "elevation = []\n",
    "\n",
    "for k in numbers:\n",
    "    result = k ** 2\n",
    "    elevation.append(result)\n",
    "\n",
    "print(elevation)"
   ]
  },
  {
   "cell_type": "markdown",
   "metadata": {},
   "source": [
    "#### With list in Lambda"
   ]
  },
  {
   "cell_type": "code",
   "execution_count": 13,
   "metadata": {},
   "outputs": [
    {
     "name": "stdout",
     "output_type": "stream",
     "text": [
      "[1, 4, 9, 16, 25, 36]\n"
     ]
    }
   ],
   "source": [
    "numbers = [1, 2, 3, 4, 5, 6]\n",
    "\n",
    "square = list(map(lambda x: x**2, numbers))\n",
    "\n",
    "print(square)"
   ]
  },
  {
   "cell_type": "markdown",
   "metadata": {},
   "source": [
    "#### Now useding structure list, map and lambda, and too list"
   ]
  },
  {
   "cell_type": "code",
   "execution_count": 15,
   "metadata": {},
   "outputs": [
    {
     "name": "stdout",
     "output_type": "stream",
     "text": [
      "['PYTHON', 'IS', 'VERY', 'USED', 'TO', 'DATA SCIENCE']\n"
     ]
    }
   ],
   "source": [
    "words = ['python', 'is', 'very', 'used', 'to', 'data science']\n",
    "\n",
    "to_upper = list(map(lambda word: word.upper(), words))\n",
    "\n",
    "print(to_upper)"
   ]
  },
  {
   "cell_type": "markdown",
   "metadata": {},
   "source": [
    "#### Lambda, list and FILTER"
   ]
  },
  {
   "cell_type": "code",
   "execution_count": 20,
   "metadata": {},
   "outputs": [
    {
     "name": "stdout",
     "output_type": "stream",
     "text": [
      "[2, 4, 6, 8, 10]\n",
      "[1, 3, 5, 7]\n"
     ]
    }
   ],
   "source": [
    "numbers = [1, 2, 3, 4, 5, 6, 7, 8, 10]\n",
    "\n",
    "pairs = list(filter(lambda x: x % 2 == 0, numbers))\n",
    "odd= list(filter(lambda x: x % 2 != 0, numbers))\n",
    "\n",
    "print(pairs)\n",
    "print(odd)"
   ]
  },
  {
   "cell_type": "markdown",
   "metadata": {},
   "source": [
    "#### Word size"
   ]
  },
  {
   "cell_type": "code",
   "execution_count": 21,
   "metadata": {},
   "outputs": [
    {
     "name": "stdout",
     "output_type": "stream",
     "text": [
      "[5, 10, 3, 5]\n"
     ]
    }
   ],
   "source": [
    "words = ['house', 'motorcycle', 'car', 'truck']\n",
    "\n",
    "lenght_words = list(map(lambda w: len(w), words))\n",
    "\n",
    "print(lenght_words)"
   ]
  },
  {
   "cell_type": "code",
   "execution_count": 23,
   "metadata": {},
   "outputs": [
    {
     "name": "stdout",
     "output_type": "stream",
     "text": [
      "['car']\n"
     ]
    }
   ],
   "source": [
    "words = ['house', 'motorcycle', 'car', 'truck']\n",
    "\n",
    "select_caracter = list(filter(lambda s: s.startswith('c'), words))\n",
    "\n",
    "print(select_caracter)"
   ]
  },
  {
   "cell_type": "code",
   "execution_count": 25,
   "metadata": {},
   "outputs": [
    {
     "name": "stdout",
     "output_type": "stream",
     "text": [
      "['Hello Lorran!', 'Hello Luana!', 'Hello Graciela!', 'Hello Raphael!', 'Hello Uander!']\n"
     ]
    }
   ],
   "source": [
    "names = ['Lorran', 'Luana', 'Graciela', 'Raphael', 'Uander']\n",
    "\n",
    "format_text = list(map(lambda x: f'Hello {x}!', names))\n",
    "\n",
    "print(format_text)"
   ]
  },
  {
   "cell_type": "markdown",
   "metadata": {},
   "source": [
    "#### Exemple with a list od tuple"
   ]
  },
  {
   "cell_type": "code",
   "execution_count": 28,
   "metadata": {},
   "outputs": [
    {
     "name": "stdout",
     "output_type": "stream",
     "text": [
      "[('Lorran', 19), ('Luana', 18), ('Graciela', 42)]\n",
      "[('Graciela', 42), ('Lorran', 19), ('Luana', 18)]\n"
     ]
    }
   ],
   "source": [
    "list_tuple = [('Lorran', 19), ('Luana', 18), ('Graciela', 42)]\n",
    "\n",
    "ordena = sorted(list_tuple, key = lambda x: x[1])\n",
    "\n",
    "print(list_tuple)\n",
    "print(ordena)"
   ]
  },
  {
   "cell_type": "code",
   "execution_count": 29,
   "metadata": {},
   "outputs": [
    {
     "name": "stdout",
     "output_type": "stream",
     "text": [
      "[('Lorran', 19), ('Luana', 18), ('Graciela', 42)]\n",
      "[('Graciela', 42), ('Lorran', 19), ('Luana', 18)]\n"
     ]
    }
   ],
   "source": [
    "list_tuple = [('Lorran', 19), ('Luana', 18), ('Graciela', 42)]\n",
    "\n",
    "ordena = sorted(list_tuple, key = lambda x: x[0])\n",
    "\n",
    "print(list_tuple)\n",
    "print(ordena)"
   ]
  },
  {
   "cell_type": "markdown",
   "metadata": {},
   "source": [
    "### 2 Question"
   ]
  },
  {
   "cell_type": "markdown",
   "metadata": {},
   "source": [
    "#### How informations filter of tuples biggers of that 3? | How informations filter of fruits that started with letter 'm'?"
   ]
  },
  {
   "cell_type": "code",
   "execution_count": 35,
   "metadata": {},
   "outputs": [
    {
     "name": "stdout",
     "output_type": "stream",
     "text": [
      "[('banana', 5), ('laranja', 10), ('uva', 9)]\n",
      "[('maça', 2), ('morango', 3)]\n"
     ]
    }
   ],
   "source": [
    "list_tuple = [('maça', 2), ('banana', 5), ('laranja', 10), ('morango', 3), ('uva', 9)]\n",
    "\n",
    "\n",
    "ordenar = list(filter(lambda x: x[1] > 3, list_tuple))\n",
    "for_letter = list(filter(lambda x: x[0].startswith('m'), list_tuple)) # filtra quando começa com a letra 'm'\n",
    "\n",
    "print(ordenar)\n",
    "print(for_letter)"
   ]
  },
  {
   "cell_type": "markdown",
   "metadata": {},
   "source": []
  },
  {
   "cell_type": "code",
   "execution_count": 44,
   "metadata": {},
   "outputs": [
    {
     "name": "stdout",
     "output_type": "stream",
     "text": [
      "[('MAÇA', 2), ('MORANGO', 3)]\n"
     ]
    }
   ],
   "source": [
    "list_tuple = [('maça', 2), ('banana', 5), ('laranja', 10), ('morango', 3), ('uva', 9)]\n",
    "\n",
    "to_upper = list(map(lambda x: (x[0].upper(), x[1]), filter(lambda z: z[0].startswith(\"m\"), list_tuple)))\n",
    "\n",
    "print(to_upper)"
   ]
  },
  {
   "cell_type": "markdown",
   "metadata": {},
   "source": [
    "### 1 Question"
   ]
  },
  {
   "cell_type": "markdown",
   "metadata": {},
   "source": [
    "#### Filtrar produtos com descontos (preço abaixo do limite)\n",
    "produtos = [('Camiseta', 50), ('Calça', 80), ('Tenis', 150), ('Boné', 25)]\n",
    "limite_preco = 60"
   ]
  },
  {
   "cell_type": "code",
   "execution_count": 46,
   "metadata": {},
   "outputs": [
    {
     "name": "stdout",
     "output_type": "stream",
     "text": [
      "[('Camiseta', 50), ('Boné', 25)]\n"
     ]
    }
   ],
   "source": [
    "produtos = [('Camiseta', 50), ('Calça', 80), ('Tenis', 150), ('Boné', 25)]\n",
    "limite_preco = 60\n",
    "\n",
    "descontos = list(filter(lambda x: x[1] < limite_preco, produtos))\n",
    "\n",
    "print(descontos)"
   ]
  },
  {
   "cell_type": "markdown",
   "metadata": {},
   "source": [
    "### 2 Question"
   ]
  },
  {
   "cell_type": "markdown",
   "metadata": {},
   "source": [
    "#### Classificação de notas. Classificar as notas em três categorias:\n",
    "\"aprovado\" (nota >= 7), \"recuperação\" (5 <= nota < 7) e \"reprovado (nota < 5)"
   ]
  },
  {
   "cell_type": "code",
   "execution_count": 48,
   "metadata": {},
   "outputs": [
    {
     "name": "stdout",
     "output_type": "stream",
     "text": [
      "['reprovado', 'recuperação', 'aprovado']\n"
     ]
    }
   ],
   "source": [
    "notas = [2, 6, 10]\n",
    "\n",
    "classificacao = list(map(lambda x: 'reprovado' if x < 5 else('recuperação' if 5 <= x < 7 else 'aprovado'), notas))\n",
    "\n",
    "print(classificacao)"
   ]
  },
  {
   "cell_type": "markdown",
   "metadata": {},
   "source": [
    "### 3 Question"
   ]
  },
  {
   "cell_type": "markdown",
   "metadata": {},
   "source": [
    "Cálculo de salarios com bonificação. Para uma lista de funcionários com seus salários e uma taxa de bonificação. A bonificação é aplicada apenas para os funcionarios cujo salário é inferios a um determinado valor.\n",
    "\n",
    "funcionarios = [(\"João\", 2000), (\"Maria\", 3000), (\"Pedro\", 1500), (\"Ana\", 2500)]\n",
    "limite_salario = 2500\n",
    "bonificação = 0.10"
   ]
  },
  {
   "cell_type": "code",
   "execution_count": 61,
   "metadata": {},
   "outputs": [
    {
     "name": "stdout",
     "output_type": "stream",
     "text": [
      "[('João', 2200.0), ('Maria', 3300.0), ('Pedro', 1650.0), ('Ana', 2750.0)]\n"
     ]
    }
   ],
   "source": [
    "funcionarios = [(\"João\", 2000), (\"Maria\", 3000), (\"Pedro\", 1500), (\"Ana\", 2500)]\n",
    "limite_salario = 2500\n",
    "bonificacao = 0.10\n",
    "\n",
    "salarios_bonificacao = list(filter(lambda x: (x[0], x[1] > limite_salario), map(lambda z: (z[0], z[1] + (z[1] * bonificacao)), funcionarios)))\n",
    "\n",
    "print(salarios_bonificacao)"
   ]
  },
  {
   "cell_type": "markdown",
   "metadata": {},
   "source": [
    "### 4 Questions "
   ]
  },
  {
   "cell_type": "markdown",
   "metadata": {},
   "source": [
    "#### Para uma lista de emails, filtrar apenas os que pertencem a um dominio especifico, com \"gmail.com\"\n",
    "\n",
    "emails = [\"ana@gmail.com\", \"bruno@yahoo.com\", \"carla@gmail.com\", \"daniel@hotmail.com\"]\n",
    "dominio = \"gmail.com\""
   ]
  },
  {
   "cell_type": "code",
   "execution_count": 64,
   "metadata": {},
   "outputs": [
    {
     "name": "stdout",
     "output_type": "stream",
     "text": [
      "['ana@gmail.com', 'carla@gmail.com']\n"
     ]
    }
   ],
   "source": [
    "emails = [\"ana@gmail.com\", \"bruno@yahoo.com\", \"carla@gmail.com\", \"daniel@hotmail.com\"]\n",
    "dominio = \"gmail.com\"\n",
    "\n",
    "\n",
    "dominio_especifico = list(filter(lambda x: dominio in x, emails))\n",
    "\n",
    "print(dominio_especifico)"
   ]
  },
  {
   "cell_type": "code",
   "execution_count": 21,
   "metadata": {},
   "outputs": [
    {
     "ename": "TypeError",
     "evalue": "'int' object is not iterable",
     "output_type": "error",
     "traceback": [
      "\u001b[1;31m---------------------------------------------------------------------------\u001b[0m",
      "\u001b[1;31mTypeError\u001b[0m                                 Traceback (most recent call last)",
      "Cell \u001b[1;32mIn[21], line 18\u001b[0m\n\u001b[0;32m     14\u001b[0m     \u001b[38;5;28;01mreturn\u001b[39;00m listas\n\u001b[0;32m     16\u001b[0m com_chuva \u001b[38;5;241m=\u001b[39m \u001b[38;5;28mlist\u001b[39m(\u001b[38;5;28mfilter\u001b[39m(\u001b[38;5;28;01mlambda\u001b[39;00m x: x[\u001b[38;5;241m1\u001b[39m] \u001b[38;5;241m>\u001b[39m \u001b[38;5;241m0\u001b[39m, juntar()))\n\u001b[1;32m---> 18\u001b[0m soma \u001b[38;5;241m=\u001b[39m \u001b[38;5;28;43mlist\u001b[39;49m\u001b[43m(\u001b[49m\u001b[38;5;28;43mmap\u001b[39;49m\u001b[43m(\u001b[49m\u001b[38;5;28;43;01mlambda\u001b[39;49;00m\u001b[43m \u001b[49m\u001b[43mx\u001b[49m\u001b[43m:\u001b[49m\u001b[43m \u001b[49m\u001b[38;5;28;43msum\u001b[39;49m\u001b[43m(\u001b[49m\u001b[43mx\u001b[49m\u001b[43m[\u001b[49m\u001b[38;5;241;43m1\u001b[39;49m\u001b[43m]\u001b[49m\u001b[43m)\u001b[49m\u001b[43m,\u001b[49m\u001b[43m \u001b[49m\u001b[43mcom_chuva\u001b[49m\u001b[43m)\u001b[49m\u001b[43m)\u001b[49m\n",
      "Cell \u001b[1;32mIn[21], line 18\u001b[0m, in \u001b[0;36m<lambda>\u001b[1;34m(x)\u001b[0m\n\u001b[0;32m     14\u001b[0m     \u001b[38;5;28;01mreturn\u001b[39;00m listas\n\u001b[0;32m     16\u001b[0m com_chuva \u001b[38;5;241m=\u001b[39m \u001b[38;5;28mlist\u001b[39m(\u001b[38;5;28mfilter\u001b[39m(\u001b[38;5;28;01mlambda\u001b[39;00m x: x[\u001b[38;5;241m1\u001b[39m] \u001b[38;5;241m>\u001b[39m \u001b[38;5;241m0\u001b[39m, juntar()))\n\u001b[1;32m---> 18\u001b[0m soma \u001b[38;5;241m=\u001b[39m \u001b[38;5;28mlist\u001b[39m(\u001b[38;5;28mmap\u001b[39m(\u001b[38;5;28;01mlambda\u001b[39;00m x: \u001b[38;5;28;43msum\u001b[39;49m\u001b[43m(\u001b[49m\u001b[43mx\u001b[49m\u001b[43m[\u001b[49m\u001b[38;5;241;43m1\u001b[39;49m\u001b[43m]\u001b[49m\u001b[43m)\u001b[49m, com_chuva))\n",
      "\u001b[1;31mTypeError\u001b[0m: 'int' object is not iterable"
     ]
    }
   ],
   "source": [
    "lista = ['mg', 'sp', 'rj']\n",
    "lista1 = [1, 0, 3]\n",
    "\n",
    "\n",
    "\n",
    "def juntar():\n",
    "    \n",
    "    listas = []\n",
    "\n",
    "    for i in range(len(lista)):\n",
    "        tupla = (lista[i], lista1[i])\n",
    "        listas.append(tupla)\n",
    "\n",
    "    return listas\n",
    "\n",
    "com_chuva = list(filter(lambda x: x[1] > 0, juntar()))\n",
    "\n",
    "soma = list(map(lambda x: sum(x[1]), com_chuva))"
   ]
  }
 ],
 "metadata": {
  "kernelspec": {
   "display_name": "Python 3",
   "language": "python",
   "name": "python3"
  },
  "language_info": {
   "codemirror_mode": {
    "name": "ipython",
    "version": 3
   },
   "file_extension": ".py",
   "mimetype": "text/x-python",
   "name": "python",
   "nbconvert_exporter": "python",
   "pygments_lexer": "ipython3",
   "version": "3.12.3"
  }
 },
 "nbformat": 4,
 "nbformat_minor": 2
}
