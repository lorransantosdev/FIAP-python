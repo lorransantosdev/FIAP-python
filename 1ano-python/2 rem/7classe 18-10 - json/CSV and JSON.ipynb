{
 "cells": [
  {
   "cell_type": "markdown",
   "metadata": {},
   "source": [
    "### CSV is the more used"
   ]
  },
  {
   "cell_type": "code",
   "execution_count": 5,
   "metadata": {},
   "outputs": [
    {
     "data": {
      "text/plain": [
       "{'nome': 'joão', 'idade': 20, 'cidade': 'são paulo'}"
      ]
     },
     "execution_count": 5,
     "metadata": {},
     "output_type": "execute_result"
    }
   ],
   "source": [
    "# Estrutura de dados em JSON\n",
    "\n",
    "import json\n",
    "\n",
    "data = {\n",
    "    'nome': 'joão',\n",
    "    'idade': 20,\n",
    "    'cidade': 'são paulo'\n",
    "}\n",
    "\n",
    "data"
   ]
  },
  {
   "cell_type": "code",
   "execution_count": 6,
   "metadata": {},
   "outputs": [],
   "source": [
    "# To write data\n",
    "\n",
    "with open('exemplo_json.json', 'w') as json_file:\n",
    "    json.dump(data, json_file) #Quando você usa o módulo json em Python, a função dump é utilizada para serializar objetos Python (como dicionários, listas, etc.) em um arquivo no formato JSON."
   ]
  },
  {
   "cell_type": "code",
   "execution_count": 7,
   "metadata": {},
   "outputs": [],
   "source": [
    "# to read data\n",
    "\n",
    "with open('exemplo_json.json', 'r') as json_file:\n",
    "    df_json = json.load(json_file)"
   ]
  },
  {
   "cell_type": "markdown",
   "metadata": {},
   "source": [
    "## Estrutura de dados em CSV    "
   ]
  },
  {
   "cell_type": "code",
   "execution_count": 21,
   "metadata": {},
   "outputs": [],
   "source": [
    "import pandas as pd\n",
    "\n",
    "\n",
    "data = {\n",
    "    'nome': ['lorran', 'graciela', 'luana', 'uander'],\n",
    "    'idade': [19, 42, 18, 43],\n",
    "    'cidade': ['são paulo', 'itapevi', 'carapicuiba', 'jandira']\n",
    "}\n"
   ]
  },
  {
   "cell_type": "code",
   "execution_count": 22,
   "metadata": {},
   "outputs": [],
   "source": [
    "df_csv = pd.DataFrame(data)\n",
    "\n",
    "df_csv.to_csv('exemplo_csv.csv', index=False)"
   ]
  },
  {
   "cell_type": "code",
   "execution_count": 33,
   "metadata": {},
   "outputs": [
    {
     "data": {
      "text/html": [
       "<div>\n",
       "<style scoped>\n",
       "    .dataframe tbody tr th:only-of-type {\n",
       "        vertical-align: middle;\n",
       "    }\n",
       "\n",
       "    .dataframe tbody tr th {\n",
       "        vertical-align: top;\n",
       "    }\n",
       "\n",
       "    .dataframe thead th {\n",
       "        text-align: right;\n",
       "    }\n",
       "</style>\n",
       "<table border=\"1\" class=\"dataframe\">\n",
       "  <thead>\n",
       "    <tr style=\"text-align: right;\">\n",
       "      <th></th>\n",
       "      <th>nome</th>\n",
       "      <th>idade</th>\n",
       "      <th>cidade</th>\n",
       "    </tr>\n",
       "  </thead>\n",
       "  <tbody>\n",
       "    <tr>\n",
       "      <th>0</th>\n",
       "      <td>lorran</td>\n",
       "      <td>19</td>\n",
       "      <td>são paulo</td>\n",
       "    </tr>\n",
       "    <tr>\n",
       "      <th>1</th>\n",
       "      <td>graciela</td>\n",
       "      <td>42</td>\n",
       "      <td>itapevi</td>\n",
       "    </tr>\n",
       "    <tr>\n",
       "      <th>2</th>\n",
       "      <td>luana</td>\n",
       "      <td>18</td>\n",
       "      <td>carapicuiba</td>\n",
       "    </tr>\n",
       "    <tr>\n",
       "      <th>3</th>\n",
       "      <td>uander</td>\n",
       "      <td>43</td>\n",
       "      <td>jandira</td>\n",
       "    </tr>\n",
       "  </tbody>\n",
       "</table>\n",
       "</div>"
      ],
      "text/plain": [
       "       nome  idade       cidade\n",
       "0    lorran     19    são paulo\n",
       "1  graciela     42      itapevi\n",
       "2     luana     18  carapicuiba\n",
       "3    uander     43      jandira"
      ]
     },
     "execution_count": 33,
     "metadata": {},
     "output_type": "execute_result"
    }
   ],
   "source": [
    "# reading file in csv\n",
    "\n",
    "df_csv = pd.read_csv('exemplo_csv.csv')\n",
    "\n",
    "df_csv"
   ]
  },
  {
   "cell_type": "markdown",
   "metadata": {},
   "source": [
    "## Estrutura de dados em excel"
   ]
  },
  {
   "cell_type": "code",
   "execution_count": 27,
   "metadata": {},
   "outputs": [],
   "source": [
    "data = {\n",
    "    'nome': ['lorran', 'graciela', 'luana', 'uander'],\n",
    "    'idade': [19, 42, 18, 43],\n",
    "    'cidade': ['são paulo', 'itapevi', 'carapicuiba', 'jandira']\n",
    "}"
   ]
  },
  {
   "cell_type": "code",
   "execution_count": 35,
   "metadata": {},
   "outputs": [],
   "source": [
    "df_excel = pd.DataFrame(data)\n",
    "\n",
    "df_excel.to_excel('exemplo_excel.xlsx', index = False)"
   ]
  }
 ],
 "metadata": {
  "kernelspec": {
   "display_name": "Python 3",
   "language": "python",
   "name": "python3"
  },
  "language_info": {
   "codemirror_mode": {
    "name": "ipython",
    "version": 3
   },
   "file_extension": ".py",
   "mimetype": "text/x-python",
   "name": "python",
   "nbconvert_exporter": "python",
   "pygments_lexer": "ipython3",
   "version": "3.12.3"
  }
 },
 "nbformat": 4,
 "nbformat_minor": 2
}
