{
 "cells": [
  {
   "cell_type": "code",
   "execution_count": 2,
   "metadata": {},
   "outputs": [
    {
     "name": "stdout",
     "output_type": "stream",
     "text": [
      "1 x 1 = 1\n",
      "1 x 2 = 2\n",
      "1 x 3 = 3\n",
      "1 x 4 = 4\n",
      "1 x 5 = 5\n",
      "1 x 6 = 6\n",
      "1 x 7 = 7\n",
      "1 x 8 = 8\n",
      "1 x 9 = 9\n",
      "1 x 10 = 10\n",
      "2 x 1 = 2\n",
      "2 x 2 = 4\n",
      "2 x 3 = 6\n",
      "2 x 4 = 8\n",
      "2 x 5 = 10\n",
      "2 x 6 = 12\n",
      "2 x 7 = 14\n",
      "2 x 8 = 16\n",
      "2 x 9 = 18\n",
      "2 x 10 = 20\n",
      "3 x 1 = 3\n",
      "3 x 2 = 6\n",
      "3 x 3 = 9\n",
      "3 x 4 = 12\n",
      "3 x 5 = 15\n",
      "3 x 6 = 18\n",
      "3 x 7 = 21\n",
      "3 x 8 = 24\n",
      "3 x 9 = 27\n",
      "3 x 10 = 30\n",
      "4 x 1 = 4\n",
      "4 x 2 = 8\n",
      "4 x 3 = 12\n",
      "4 x 4 = 16\n",
      "4 x 5 = 20\n",
      "4 x 6 = 24\n",
      "4 x 7 = 28\n",
      "4 x 8 = 32\n",
      "4 x 9 = 36\n",
      "4 x 10 = 40\n",
      "5 x 1 = 5\n",
      "5 x 2 = 10\n",
      "5 x 3 = 15\n",
      "5 x 4 = 20\n",
      "5 x 5 = 25\n",
      "5 x 6 = 30\n",
      "5 x 7 = 35\n",
      "5 x 8 = 40\n",
      "5 x 9 = 45\n",
      "5 x 10 = 50\n",
      "6 x 1 = 6\n",
      "6 x 2 = 12\n",
      "6 x 3 = 18\n",
      "6 x 4 = 24\n",
      "6 x 5 = 30\n",
      "6 x 6 = 36\n",
      "6 x 7 = 42\n",
      "6 x 8 = 48\n",
      "6 x 9 = 54\n",
      "6 x 10 = 60\n",
      "7 x 1 = 7\n",
      "7 x 2 = 14\n",
      "7 x 3 = 21\n",
      "7 x 4 = 28\n",
      "7 x 5 = 35\n",
      "7 x 6 = 42\n",
      "7 x 7 = 49\n",
      "7 x 8 = 56\n",
      "7 x 9 = 63\n",
      "7 x 10 = 70\n",
      "8 x 1 = 8\n",
      "8 x 2 = 16\n",
      "8 x 3 = 24\n",
      "8 x 4 = 32\n",
      "8 x 5 = 40\n",
      "8 x 6 = 48\n",
      "8 x 7 = 56\n",
      "8 x 8 = 64\n",
      "8 x 9 = 72\n",
      "8 x 10 = 80\n",
      "9 x 1 = 9\n",
      "9 x 2 = 18\n",
      "9 x 3 = 27\n",
      "9 x 4 = 36\n",
      "9 x 5 = 45\n",
      "9 x 6 = 54\n",
      "9 x 7 = 63\n",
      "9 x 8 = 72\n",
      "9 x 9 = 81\n",
      "9 x 10 = 90\n",
      "10 x 1 = 10\n",
      "10 x 2 = 20\n",
      "10 x 3 = 30\n",
      "10 x 4 = 40\n",
      "10 x 5 = 50\n",
      "10 x 6 = 60\n",
      "10 x 7 = 70\n",
      "10 x 8 = 80\n",
      "10 x 9 = 90\n",
      "10 x 10 = 100\n"
     ]
    }
   ],
   "source": [
    "for i in range(1, 11):\n",
    "    for k in range(1, 11):\n",
    "        print(f\"{i} x {k} = {i*k}\")"
   ]
  },
  {
   "cell_type": "code",
   "execution_count": 3,
   "metadata": {},
   "outputs": [
    {
     "name": "stdout",
     "output_type": "stream",
     "text": [
      "Nota igual encontrada: 7\n",
      "Nota igual encontrada: 8\n",
      "Nota igual encontrada: 9\n",
      "Nota igual encontrada: 10\n"
     ]
    }
   ],
   "source": [
    "alunos1 = [7, 8, 9, 10, 6]\n",
    "alunos2 = [8, 9, 10, 5, 7]\n",
    "\n",
    "\n",
    "for nota1 in alunos1:\n",
    "    for nota2 in alunos2:\n",
    "        if nota1 == nota2:\n",
    "            print(f\"Nota igual encontrada: {nota1}\")"
   ]
  },
  {
   "cell_type": "code",
   "execution_count": null,
   "metadata": {},
   "outputs": [],
   "source": [
    "lista1 = [1, 2, 3]\n",
    "lista2 = [4, 5, 6]\n",
    "\n",
    "for i in range(len(lista1)):\n",
    "    for k in range(len(lista2)):\n",
    "        if i == k:\n",
    "            print(f\"A soma dos elementos na posição {i} é {lista1[i] + lista2[k]}\")"
   ]
  },
  {
   "cell_type": "code",
   "execution_count": 4,
   "metadata": {},
   "outputs": [
    {
     "name": "stdout",
     "output_type": "stream",
     "text": [
      "A soma dos elementos na posição 0 é 5\n",
      "A soma dos elementos na posição 1 é 7\n",
      "A soma dos elementos na posição 2 é 9\n"
     ]
    }
   ],
   "source": [
    "lista1 = [1, 2, 3]\n",
    "lista2 = [4, 5, 6, 7, 1]\n",
    "\n",
    "for i in range(len(lista1)):\n",
    "    for k in range(len(lista2)):\n",
    "        if i == k:\n",
    "            print(f\"A soma dos elementos na posição {i} é {lista1[i] + lista2[k]}\")"
   ]
  },
  {
   "cell_type": "code",
   "execution_count": 7,
   "metadata": {},
   "outputs": [
    {
     "name": "stdout",
     "output_type": "stream",
     "text": [
      "A palavra python tem 1 vogais\n",
      "A palavra javaScript tem 3 vogais\n",
      "A palavra java tem 2 vogais\n",
      "A palavra vscode tem 2 vogais\n"
     ]
    }
   ],
   "source": [
    "palavras = [\"python\", \"javaScript\", \"java\", \"vscode\"]\n",
    "\n",
    "vogais = 'aeiou'\n",
    "\n",
    "for palavra in palavras: #separa cada palavra\n",
    "    # print(palavra)\n",
    "    count_vogais = 0 \n",
    "\n",
    "    for letra in palavra: \n",
    "        if letra in vogais:\n",
    "            count_vogais += 1\n",
    "\n",
    "    print(f'A palavra {palavra} tem {count_vogais} vogais')"
   ]
  },
  {
   "cell_type": "markdown",
   "metadata": {},
   "source": [
    "#### 1. Crie uma estrutuea para mostrar uma tabuada que calcule a multiplicção de números de 2 a 6.\n",
    "#### 2. Crie uma estrutura para contar as consoantes nas palavras da lista abaixo\n",
    "##### lista_palavras = [\"brazil\", \"inglaterra\", \"estados unidos\", \"canada\", \"chile\"].\n",
    "#### 3. Crie uma estrutura para verificar se as palavras chaves aparecem nos parágrafos.\n",
    "##### lista_text = [\"hoje é sexta-feira\", \"em 2022, tivemos a copa do mundo\", \"a melhor forma de estudar python é praticar\"]\n",
    "##### palavras_chaves = [\"hoje\", \"mundo\", \"estudar\", \"praticar\"]"
   ]
  },
  {
   "cell_type": "code",
   "execution_count": 9,
   "metadata": {},
   "outputs": [
    {
     "name": "stdout",
     "output_type": "stream",
     "text": [
      "2 x 2 = 4\n",
      "2 x 3 = 6\n",
      "2 x 4 = 8\n",
      "2 x 5 = 10\n",
      "2 x 6 = 12\n",
      "3 x 2 = 6\n",
      "3 x 3 = 9\n",
      "3 x 4 = 12\n",
      "3 x 5 = 15\n",
      "3 x 6 = 18\n",
      "4 x 2 = 8\n",
      "4 x 3 = 12\n",
      "4 x 4 = 16\n",
      "4 x 5 = 20\n",
      "4 x 6 = 24\n",
      "5 x 2 = 10\n",
      "5 x 3 = 15\n",
      "5 x 4 = 20\n",
      "5 x 5 = 25\n",
      "5 x 6 = 30\n",
      "6 x 2 = 12\n",
      "6 x 3 = 18\n",
      "6 x 4 = 24\n",
      "6 x 5 = 30\n",
      "6 x 6 = 36\n"
     ]
    }
   ],
   "source": [
    "#### 1. Crie uma estrutuea para mostrar uma tabuada que calcule a multiplicção de números de 2 a 6.\n",
    "\n",
    "for i in range(2, 7):\n",
    "    for k in range(2, 7):\n",
    "        print(f\"{i} x {k} = {i*k}\")"
   ]
  },
  {
   "cell_type": "code",
   "execution_count": 11,
   "metadata": {},
   "outputs": [
    {
     "name": "stdout",
     "output_type": "stream",
     "text": [
      "A palavra brazil tem cerca de 4 consoantes\n",
      "A palavra inglaterra tem cerca de 6 consoantes\n",
      "A palavra estados unidos tem cerca de 7 consoantes\n",
      "A palavra canada tem cerca de 3 consoantes\n",
      "A palavra chile tem cerca de 3 consoantes\n"
     ]
    }
   ],
   "source": [
    "#### 2. Crie uma estrutura para contar as consoantes nas palavras da lista abaixo\n",
    "##### lista_palavras = [\"brazil\", \"inglaterra\", \"estados unidos\", \"canada\", \"chile\"].\n",
    "\n",
    "lista_palavras = [\"brazil\", \"inglaterra\", \"estados unidos\", \"canada\", \"chile\"]\n",
    "\n",
    "consoantes = \"bcdfghjklmnpqrstvwxyz\"\n",
    "\n",
    "for palavra in lista_palavras:\n",
    "    contador_consoantes = 0\n",
    "\n",
    "    for letra in palavra:\n",
    "        if letra in consoantes:\n",
    "            contador_consoantes += 1\n",
    "\n",
    "    print(f\"A palavra {palavra} tem cerca de {contador_consoantes} consoantes\")"
   ]
  },
  {
   "cell_type": "code",
   "execution_count": 22,
   "metadata": {},
   "outputs": [
    {
     "name": "stdout",
     "output_type": "stream",
     "text": [
      "A palavra brazil tem cerca de 4 consoantes\n",
      "A palavra inglaterra tem cerca de 6 consoantes\n",
      "A palavra estados unidos tem cerca de 8 consoantes\n",
      "A palavra canada tem cerca de 3 consoantes\n",
      "A palavra chile tem cerca de 3 consoantes\n"
     ]
    }
   ],
   "source": [
    "#### 2. Crie uma estrutura para contar as consoantes nas palavras da lista abaixo\n",
    "##### lista_palavras = [\"brazil\", \"inglaterra\", \"estados unidos\", \"canada\", \"chile\"].\n",
    "\n",
    "lista_palavras = [\"brazil\", \"inglaterra\", \"estados unidos\", \"canada\", \"chile\"]\n",
    "\n",
    "vogais = \"aeiou\"\n",
    "\n",
    "for palavra in lista_palavras:\n",
    "    contador_consoantes = 0\n",
    "\n",
    "    for letra in palavra:\n",
    "        if letra not in vogais:\n",
    "            contador_consoantes += 1\n",
    "\n",
    "    print(f\"A palavra {palavra} tem cerca de {contador_consoantes} consoantes\")"
   ]
  },
  {
   "cell_type": "code",
   "execution_count": 21,
   "metadata": {},
   "outputs": [
    {
     "name": "stdout",
     "output_type": "stream",
     "text": [
      "O texto 'hoje é sexta-feira' contém a palavra chave '['hoje']\n",
      "O texto 'em 2022, tivemos a copa do mundo' contém a palavra chave '['mundo']\n",
      "O texto 'a melhor forma de estudar python é praticar' contém a palavra chave '['estudar', 'praticar']\n"
     ]
    }
   ],
   "source": [
    "#### 3. Crie uma estrutura para verificar se as palavras chaves aparecem nos parágrafos.\n",
    "##### lista_text = [\"hoje é sexta-feira\", \"em 2022, tivemos a copa do mundo\", \"a melhor forma de estudar python é praticar\"]\n",
    "##### palavras_chaves = [\"hoje\", \"mundo\", \"estudar\", \"praticar\"]\n",
    "\n",
    "lista_text = [\"hoje é sexta-feira\", \"em 2022, tivemos a copa do mundo\", \"a melhor forma de estudar python é praticar\"]\n",
    "palavras_chaves = [\"hoje\", \"mundo\", \"estudar\", \"praticar\"]\n",
    "\n",
    "\n",
    "for texto in lista_text:\n",
    "    palavra_chave_do_texto = []\n",
    "\n",
    "    for palavra in palavras_chaves:\n",
    "        if palavra in texto:\n",
    "            palavra_chave_do_texto.append(palavra)\n",
    "    \n",
    "    print(f\"O texto '{texto}' contém a palavra chave '{palavra_chave_do_texto}\")"
   ]
  },
  {
   "cell_type": "code",
   "execution_count": null,
   "metadata": {},
   "outputs": [],
   "source": []
  }
 ],
 "metadata": {
  "kernelspec": {
   "display_name": "Python 3",
   "language": "python",
   "name": "python3"
  },
  "language_info": {
   "codemirror_mode": {
    "name": "ipython",
    "version": 3
   },
   "file_extension": ".py",
   "mimetype": "text/x-python",
   "name": "python",
   "nbconvert_exporter": "python",
   "pygments_lexer": "ipython3",
   "version": "3.12.3"
  }
 },
 "nbformat": 4,
 "nbformat_minor": 2
}
