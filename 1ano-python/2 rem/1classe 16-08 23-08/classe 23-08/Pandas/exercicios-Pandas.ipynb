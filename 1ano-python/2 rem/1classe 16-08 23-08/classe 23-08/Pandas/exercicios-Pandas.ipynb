{
 "cells": [
  {
   "cell_type": "code",
   "execution_count": 2,
   "metadata": {},
   "outputs": [],
   "source": [
    "import pandas as pd\n"
   ]
  },
  {
   "cell_type": "markdown",
   "metadata": {},
   "source": [
    "##### Crie um pandas Series contendo os números de 1 a 10"
   ]
  },
  {
   "cell_type": "code",
   "execution_count": 3,
   "metadata": {},
   "outputs": [
    {
     "data": {
      "text/plain": [
       "0     1\n",
       "1     2\n",
       "2     3\n",
       "3     4\n",
       "4     5\n",
       "5     6\n",
       "6     7\n",
       "7     8\n",
       "8     9\n",
       "9    10\n",
       "dtype: int64"
      ]
     },
     "execution_count": 3,
     "metadata": {},
     "output_type": "execute_result"
    }
   ],
   "source": [
    "ex1 = pd.Series(range(1, 11))\n",
    "ex1\n"
   ]
  },
  {
   "cell_type": "markdown",
   "metadata": {},
   "source": [
    "##### Acesse o terceiro elemento de uma Pandas Series e imprima o seu valor"
   ]
  },
  {
   "cell_type": "code",
   "execution_count": 28,
   "metadata": {},
   "outputs": [
    {
     "data": {
      "text/plain": [
       "3"
      ]
     },
     "execution_count": 28,
     "metadata": {},
     "output_type": "execute_result"
    }
   ],
   "source": [
    "ex1 = pd.Series(range(1, 11));\n",
    "\n",
    "ex1[2]\n",
    "\n"
   ]
  },
  {
   "cell_type": "markdown",
   "metadata": {},
   "source": [
    "##### Some duas Pandas Series contendo numeros de 1 a 5 e os numeros de 6 a 10, respesctivamente."
   ]
  },
  {
   "cell_type": "code",
   "execution_count": 7,
   "metadata": {},
   "outputs": [
    {
     "data": {
      "text/plain": [
       "0     7\n",
       "1     9\n",
       "2    11\n",
       "3    13\n",
       "4    15\n",
       "dtype: int64"
      ]
     },
     "execution_count": 7,
     "metadata": {},
     "output_type": "execute_result"
    }
   ],
   "source": [
    "ex1 = pd.Series(range(1, 6), name = 'Serie 1');\n",
    "ex2 = pd.Series(range(6, 11), name = 'Serie 2');\n",
    "\n",
    "df = pd.DataFrame({'Serie 1': ex1, 'Serie 2': ex2}); #definindo como DataFrame (df)\n",
    "ex_sum = df['Serie 1'] + df['Serie 2']; #somando as Series\n",
    "\n",
    "ex_sum"
   ]
  },
  {
   "cell_type": "markdown",
   "metadata": {},
   "source": [
    "##### Crie duas Pandas Series contendo os numeros de 1 a 10 e exiba apenas os valores maiores que 5"
   ]
  },
  {
   "cell_type": "code",
   "execution_count": 17,
   "metadata": {},
   "outputs": [
    {
     "name": "stdout",
     "output_type": "stream",
     "text": [
      "6\n",
      "7\n",
      "8\n",
      "9\n",
      "10\n",
      "6\n",
      "7\n",
      "8\n",
      "9\n",
      "10\n"
     ]
    }
   ],
   "source": [
    "ex1 = pd.Series(range(1, 11), name = 'Serie 1');\n",
    "ex2 = pd.Series(range(1, 11), name = 'Serie 2');\n",
    "\n",
    "df = pd.DataFrame({'Serie 1': ex1, 'Serie 2': ex2}); #definindo como DataFrame (df)\n",
    "\n",
    "for i in df['Serie 1']:\n",
    "    if i > 5:\n",
    "        print(i)\n",
    "\n",
    "for i in df['Serie 2']:\n",
    "    if i > 5:\n",
    "        print(i)\n",
    "        \n"
   ]
  },
  {
   "cell_type": "code",
   "execution_count": 4,
   "metadata": {},
   "outputs": [
    {
     "name": "stdout",
     "output_type": "stream",
     "text": [
      "5     6\n",
      "6     7\n",
      "7     8\n",
      "8     9\n",
      "9    10\n",
      "Name: Serie 1, dtype: int64\n"
     ]
    }
   ],
   "source": [
    "ex1 = pd.Series(range(1, 11), name = 'Serie 1');\n",
    "ex2 = pd.Series(range(1, 11), name = 'Serie 2');\n",
    "\n",
    "ex_filtrado = ex1[ex1>5]\n",
    "\n",
    "print(ex_filtrado)"
   ]
  },
  {
   "cell_type": "markdown",
   "metadata": {},
   "source": [
    "##### Calcule a média e o desvio padrão de uma Pandas Series contendo os números de 1 a 10"
   ]
  },
  {
   "cell_type": "code",
   "execution_count": 26,
   "metadata": {},
   "outputs": [
    {
     "name": "stdout",
     "output_type": "stream",
     "text": [
      "Series 1    5.5\n",
      "dtype: float64\n",
      "Series 1    3.02765\n",
      "dtype: float64\n"
     ]
    }
   ],
   "source": [
    "ex1 = pd.Series(range(1, 11), name = 'Series 1');\n",
    "\n",
    "df = pd.DataFrame({'Series 1': ex1})\n",
    "\n",
    "df_media = df.mean()\n",
    "df_devioPadrao = df.std()\n",
    "\n",
    "print(df_media)\n",
    "print(df_devioPadrao)"
   ]
  },
  {
   "cell_type": "markdown",
   "metadata": {},
   "source": [
    "##### Concatene duas Pandas Series contendo os numeros de 1 a 5 e 6 a 10, respectivamente, em uma unica serie"
   ]
  },
  {
   "cell_type": "code",
   "execution_count": 27,
   "metadata": {},
   "outputs": [
    {
     "ename": "NameError",
     "evalue": "name 'concat' is not defined",
     "output_type": "error",
     "traceback": [
      "\u001b[1;31m---------------------------------------------------------------------------\u001b[0m",
      "\u001b[1;31mNameError\u001b[0m                                 Traceback (most recent call last)",
      "Cell \u001b[1;32mIn[27], line 4\u001b[0m\n\u001b[0;32m      1\u001b[0m ex1 \u001b[38;5;241m=\u001b[39m pd\u001b[38;5;241m.\u001b[39mSeries(\u001b[38;5;28mrange\u001b[39m(\u001b[38;5;241m1\u001b[39m, \u001b[38;5;241m6\u001b[39m), name \u001b[38;5;241m=\u001b[39m \u001b[38;5;124m'\u001b[39m\u001b[38;5;124mSeries 1\u001b[39m\u001b[38;5;124m'\u001b[39m);\n\u001b[0;32m      2\u001b[0m ex2 \u001b[38;5;241m=\u001b[39m pd\u001b[38;5;241m.\u001b[39mSeries(\u001b[38;5;28mrange\u001b[39m(\u001b[38;5;241m6\u001b[39m, \u001b[38;5;241m11\u001b[39m), name \u001b[38;5;241m=\u001b[39m \u001b[38;5;124m'\u001b[39m\u001b[38;5;124mSeries 2\u001b[39m\u001b[38;5;124m'\u001b[39m);\n\u001b[1;32m----> 4\u001b[0m \u001b[43mconcat\u001b[49m([ex1,ex2], axis \u001b[38;5;241m=\u001b[39m \u001b[38;5;241m1\u001b[39m);\n",
      "\u001b[1;31mNameError\u001b[0m: name 'concat' is not defined"
     ]
    }
   ],
   "source": [
    "ex1 = pd.Series(range(1, 6), name = 'Series 1');\n",
    "ex2 = pd.Series(range(6, 11), name = 'Series 2');\n",
    "\n",
    "ex_concat = pd.concat([ex1, ex2], axis = 1) ## 'axis = 1' junta as colunas, 'axis=0' coloca uma coluna em baixo da outra\n",
    "\n"
   ]
  },
  {
   "cell_type": "code",
   "execution_count": 30,
   "metadata": {},
   "outputs": [
    {
     "data": {
      "text/plain": [
       "0   -9.0\n",
       "1   -7.0\n",
       "2   -5.0\n",
       "3   -3.0\n",
       "4   -1.0\n",
       "5    1.0\n",
       "6    3.0\n",
       "7    5.0\n",
       "8    7.0\n",
       "9    NaN\n",
       "dtype: float64"
      ]
     },
     "execution_count": 30,
     "metadata": {},
     "output_type": "execute_result"
    }
   ],
   "source": [
    "ex1 = pd.Series(range(1, 11))\n",
    "ex2 = pd.Series(range(10, 1, -1))\n",
    "\n",
    "ex_sub = ex1 - ex2\n",
    "ex_sub"
   ]
  },
  {
   "cell_type": "code",
   "execution_count": 34,
   "metadata": {},
   "outputs": [
    {
     "data": {
      "text/plain": [
       "9    10\n",
       "8     9\n",
       "7     8\n",
       "6     7\n",
       "5     6\n",
       "4     5\n",
       "3     4\n",
       "2     3\n",
       "1     2\n",
       "0     1\n",
       "dtype: int64"
      ]
     },
     "execution_count": 34,
     "metadata": {},
     "output_type": "execute_result"
    }
   ],
   "source": [
    "ex1 = pd.Series(range(1, 11))\n",
    "\n",
    "ex1.sort_values(ascending = False) # false decrescente, true = crescente\n"
   ]
  },
  {
   "cell_type": "code",
   "execution_count": 33,
   "metadata": {},
   "outputs": [
    {
     "data": {
      "text/plain": [
       "True"
      ]
     },
     "execution_count": 33,
     "metadata": {},
     "output_type": "execute_result"
    }
   ],
   "source": [
    "ex1 = pd.Series([10, 20, 20, 30, 40, 50, 50], name = 'Series 1')\n",
    "\n",
    "ex1.duplicated().any() # confere se tem elementos duplicados IMPORTANTE para verificar dados e tratar"
   ]
  },
  {
   "cell_type": "code",
   "execution_count": 35,
   "metadata": {},
   "outputs": [
    {
     "data": {
      "text/plain": [
       "3    4\n",
       "4    5\n",
       "5    6\n",
       "6    7\n",
       "7    8\n",
       "dtype: int64"
      ]
     },
     "execution_count": 35,
     "metadata": {},
     "output_type": "execute_result"
    }
   ],
   "source": [
    "ex1 = pd.Series(range(1, 11))\n",
    "\n",
    "ex1[3:8]  #pega elementos apartir de um indice, ate outro indice3,"
   ]
  }
 ],
 "metadata": {
  "kernelspec": {
   "display_name": "Python 3",
   "language": "python",
   "name": "python3"
  },
  "language_info": {
   "codemirror_mode": {
    "name": "ipython",
    "version": 3
   },
   "file_extension": ".py",
   "mimetype": "text/x-python",
   "name": "python",
   "nbconvert_exporter": "python",
   "pygments_lexer": "ipython3",
   "version": "3.11.9"
  }
 },
 "nbformat": 4,
 "nbformat_minor": 2
}
