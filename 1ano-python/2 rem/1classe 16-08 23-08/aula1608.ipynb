{
 "cells": [
  {
   "cell_type": "code",
   "execution_count": 20,
   "metadata": {},
   "outputs": [],
   "source": [
    "lista = [100,200,300]"
   ]
  },
  {
   "cell_type": "code",
   "execution_count": 21,
   "metadata": {},
   "outputs": [
    {
     "name": "stdout",
     "output_type": "stream",
     "text": [
      "100\n",
      "200\n",
      "300\n"
     ]
    }
   ],
   "source": [
    "print(lista[0])\n",
    "print(lista[1])\n",
    "print(lista[2])"
   ]
  },
  {
   "cell_type": "code",
   "execution_count": 22,
   "metadata": {},
   "outputs": [
    {
     "name": "stdout",
     "output_type": "stream",
     "text": [
      "(100, 200, 300)\n"
     ]
    }
   ],
   "source": [
    "tupla = (100,200,300)\n",
    "print(tupla)"
   ]
  },
  {
   "cell_type": "code",
   "execution_count": 23,
   "metadata": {},
   "outputs": [
    {
     "name": "stdout",
     "output_type": "stream",
     "text": [
      "100\n",
      "200\n",
      "300\n"
     ]
    }
   ],
   "source": [
    "for m in tupla:\n",
    "    print(m)"
   ]
  },
  {
   "cell_type": "code",
   "execution_count": 24,
   "metadata": {},
   "outputs": [
    {
     "name": "stdout",
     "output_type": "stream",
     "text": [
      "('s', 't', 'r', 'i', 'n', 'g')\n"
     ]
    }
   ],
   "source": [
    "# Passa cada letra da palavra para tupla\n",
    "tupla = tuple('string')\n",
    "print (tupla)"
   ]
  },
  {
   "cell_type": "code",
   "execution_count": 25,
   "metadata": {},
   "outputs": [
    {
     "name": "stdout",
     "output_type": "stream",
     "text": [
      "('foo', [1, 2, 3], True)\n"
     ]
    }
   ],
   "source": [
    "# Cria a tupla\n",
    "tupla = tuple(['foo',[1,2,3], True])\n",
    "print(tupla)"
   ]
  },
  {
   "cell_type": "code",
   "execution_count": 26,
   "metadata": {},
   "outputs": [
    {
     "ename": "TypeError",
     "evalue": "'tuple' object does not support item assignment",
     "output_type": "error",
     "traceback": [
      "\u001b[1;31m---------------------------------------------------------------------------\u001b[0m",
      "\u001b[1;31mTypeError\u001b[0m                                 Traceback (most recent call last)",
      "Cell \u001b[1;32mIn[26], line 2\u001b[0m\n\u001b[0;32m      1\u001b[0m \u001b[38;5;66;03m# Prova que não da para alterar valor na tupla\u001b[39;00m\n\u001b[1;32m----> 2\u001b[0m \u001b[43mtupla\u001b[49m\u001b[43m[\u001b[49m\u001b[38;5;241;43m2\u001b[39;49m\u001b[43m]\u001b[49m \u001b[38;5;241m=\u001b[39m \u001b[38;5;28;01mFalse\u001b[39;00m\n",
      "\u001b[1;31mTypeError\u001b[0m: 'tuple' object does not support item assignment"
     ]
    }
   ],
   "source": [
    "# Prova que não da para alterar valor na tupla\n",
    "tupla[2] = False"
   ]
  },
  {
   "cell_type": "code",
   "execution_count": null,
   "metadata": {},
   "outputs": [
    {
     "name": "stdout",
     "output_type": "stream",
     "text": [
      "('foo', [1, 2, 3, 4], True)\n"
     ]
    }
   ],
   "source": [
    "# Insere o número 4 na lista que está dentro da tupla (posição 1)\n",
    "tupla[1].append(4)\n",
    "\n",
    "print(tupla)"
   ]
  },
  {
   "cell_type": "code",
   "execution_count": null,
   "metadata": {},
   "outputs": [
    {
     "name": "stdout",
     "output_type": "stream",
     "text": [
      "('foo', [1, 2, 3], True)\n",
      "['foo', [1, 2, 3], True]\n",
      "['fiap', 'foo', [1, 2, 3], True]\n"
     ]
    }
   ],
   "source": [
    "# Converte para tupla\n",
    "tupla = tuple(['foo',[1,2,3], True])\n",
    "print(tupla)\n",
    "\n",
    "# Converte para lista\n",
    "lista = list(tupla)\n",
    "print(lista)\n",
    "\n",
    "# Adiciona no índice 0 da lista a palavra 'fiap'\n",
    "lista.insert(0, 'fiap')\n",
    "print(lista)"
   ]
  },
  {
   "cell_type": "code",
   "execution_count": 5,
   "metadata": {},
   "outputs": [
    {
     "name": "stdout",
     "output_type": "stream",
     "text": [
      "('foo', [1, 2, 3], True)\n",
      "['foo', [1, 2, 3], True]\n",
      "('foo', 'foo fighters', [1, 2, 3], True)\n"
     ]
    }
   ],
   "source": [
    "tupla = tuple(['foo',[1,2,3], True])\n",
    "print(tupla)\n",
    "\n",
    "lista = list(tupla)\n",
    "print(lista)\n",
    "\n",
    "# Index é a referência e o +1 é para adicionar um a frente da referência.\n",
    "posicao_insercao = lista.index('foo') + 1\n",
    "lista.insert(posicao_insercao, 'foo fighters')\n",
    "\n",
    "tupla_nova = tuple(lista)\n",
    "print(tupla_nova)"
   ]
  },
  {
   "cell_type": "code",
   "execution_count": null,
   "metadata": {},
   "outputs": [
    {
     "name": "stdout",
     "output_type": "stream",
     "text": [
      "(4, None, 'foo', 6, 0, 'fiap', 1)\n"
     ]
    }
   ],
   "source": [
    "# Concatena os dados (Concatenar é juntar)\n",
    "a = (4, None, 'foo') + (6,0) + ('fiap',1)\n",
    "print(a)"
   ]
  },
  {
   "cell_type": "code",
   "execution_count": null,
   "metadata": {},
   "outputs": [
    {
     "name": "stdout",
     "output_type": "stream",
     "text": [
      "(4, None, 'foo', 4, None, 'foo', 4, None, 'foo', 4, None, 'foo')\n"
     ]
    }
   ],
   "source": [
    "# Concatena 4 vezes o valor que já tem\n",
    "b = (4, None, 'foo') * 4\n",
    "print(b)"
   ]
  },
  {
   "cell_type": "code",
   "execution_count": null,
   "metadata": {},
   "outputs": [
    {
     "name": "stdout",
     "output_type": "stream",
     "text": [
      "100\n",
      "1000\n",
      "10000\n"
     ]
    }
   ],
   "source": [
    "tupla = (100,1000,10000)\n",
    "\n",
    "# Separa em A B e C (variáveis) os valores dentro da tupla\n",
    "a,b,c = tupla\n",
    "\n",
    "print(a)\n",
    "print(b)\n",
    "print(c)"
   ]
  },
  {
   "cell_type": "code",
   "execution_count": null,
   "metadata": {},
   "outputs": [
    {
     "data": {
      "text/plain": [
       "(35.0, 70)"
      ]
     },
     "execution_count": 19,
     "metadata": {},
     "output_type": "execute_result"
    }
   ],
   "source": [
    "def nome_funcao(parametros):\n",
    "    a = (20 + 50) /2\n",
    "    b = (20 + 50)\n",
    "    return(a,b)\n",
    "\n",
    "nome_funcao(0)"
   ]
  },
  {
   "cell_type": "markdown",
   "metadata": {},
   "source": [
    "# Exercício 1\n",
    "\n",
    "Crie uma tupla chamada frutas com os seguintes elementos: 'maçã', 'banana', 'laranja', 'uva'."
   ]
  },
  {
   "cell_type": "code",
   "execution_count": 27,
   "metadata": {},
   "outputs": [],
   "source": [
    "frutas = ('maçã', 'banana', 'laranja', 'uva')"
   ]
  },
  {
   "cell_type": "markdown",
   "metadata": {},
   "source": [
    "# Exercício 2\n",
    "Acesse o segundo elemento da tupla frutas."
   ]
  },
  {
   "cell_type": "code",
   "execution_count": 28,
   "metadata": {},
   "outputs": [
    {
     "name": "stdout",
     "output_type": "stream",
     "text": [
      "banana\n"
     ]
    }
   ],
   "source": [
    "print(frutas[1])"
   ]
  },
  {
   "cell_type": "markdown",
   "metadata": {},
   "source": [
    "# Exercício 3\n",
    "Substitua o terceiro elemento da tupla frutas por 'manga' e armazene a tupla modificada em uma nova variável chamada frutas_modificadas."
   ]
  },
  {
   "cell_type": "code",
   "execution_count": 30,
   "metadata": {},
   "outputs": [
    {
     "name": "stdout",
     "output_type": "stream",
     "text": [
      "('maçã', 'banana', 'manga', 'uva')\n"
     ]
    }
   ],
   "source": [
    "lista = list(frutas)\n",
    "lista[2] = 'manga'\n",
    "frutas_modificadas = tuple(lista)\n",
    "print(frutas_modificadas)"
   ]
  },
  {
   "cell_type": "markdown",
   "metadata": {},
   "source": [
    "# Exercício 4\n",
    "Concatene a tupla frutas_modificadas com a tupla ('abacaxi','limão') e armazene o resultado em uma nova tupla chamada frutas_concatenadas."
   ]
  },
  {
   "cell_type": "code",
   "execution_count": 31,
   "metadata": {},
   "outputs": [
    {
     "name": "stdout",
     "output_type": "stream",
     "text": [
      "('maçã', 'banana', 'manga', 'uva', 'abacaxi', 'limão')\n"
     ]
    }
   ],
   "source": [
    "frutas_concatenadas = frutas_modificadas + ('abacaxi','limão')\n",
    "print(frutas_concatenadas)"
   ]
  },
  {
   "cell_type": "markdown",
   "metadata": {},
   "source": [
    "# Exercício 5\n",
    "Verifique se o elemento 'uva' está presente na tupla frutas_concatenadas."
   ]
  },
  {
   "cell_type": "code",
   "execution_count": 32,
   "metadata": {},
   "outputs": [
    {
     "name": "stdout",
     "output_type": "stream",
     "text": [
      "A uva está presente!\n"
     ]
    }
   ],
   "source": [
    "for i in frutas_concatenadas:\n",
    "    if i == 'uva':\n",
    "        print(\"A uva está presente!\")\n",
    "        break"
   ]
  },
  {
   "cell_type": "markdown",
   "metadata": {},
   "source": [
    "# Exercício 6\n",
    "Crie um algoritmo para calcular a média dos alunos abaixo. Utilize estrutura de repetição e tuplas.\n",
    "\n",
    "###### (Laura, 85,90,88)\n",
    "###### (Paulo, 60,75,68)\n",
    "###### (Ana, 68,80,90)\n",
    "###### (Jose, 80,90,72)"
   ]
  },
  {
   "cell_type": "code",
   "execution_count": 33,
   "metadata": {},
   "outputs": [
    {
     "name": "stdout",
     "output_type": "stream",
     "text": [
      "A média do(a) Laura é: 87.66666666666667\n",
      "A média do(a) Paulo é: 67.66666666666667\n",
      "A média do(a) Ana é: 79.33333333333333\n",
      "A média do(a) Jose é: 80.66666666666667\n"
     ]
    }
   ],
   "source": [
    "alunos = [('Laura', 85,90,88),('Paulo', 60,75,68),('Ana', 68,80,90),('Jose', 80,90,72)]\n",
    "\n",
    "for i in alunos:\n",
    "    media = (i[1] + i[2] + i[3]) / 3\n",
    "    print(f\"A média do(a) {i[0]} é: {media}\")"
   ]
  },
  {
   "cell_type": "markdown",
   "metadata": {},
   "source": [
    "# Exercício 7\n",
    "Crie um programa para análise de despesas.\n",
    "Utilize estrutura de repetição e tuplas.\n",
    "\n",
    "###### viagens,5000,15000,25000,9800\n",
    "###### restaurantes, 230,100,50,415\n",
    "###### transporte, 50, 15, 89,115"
   ]
  },
  {
   "cell_type": "code",
   "execution_count": 43,
   "metadata": {},
   "outputs": [
    {
     "name": "stdout",
     "output_type": "stream",
     "text": [
      "O 1° valor gasto com viagens foi 5000\n",
      "O 2° valor gasto com viagens foi 15000\n",
      "O 3° valor gasto com viagens foi 25000\n",
      "O 4° valor gasto com viagens foi 9800\n",
      "A média de gastos em viagens foi de 13700.0\n",
      "\n",
      "O 1° valor gasto com restaurantes foi 230\n",
      "O 2° valor gasto com restaurantes foi 100\n",
      "O 3° valor gasto com restaurantes foi 50\n",
      "O 4° valor gasto com restaurantes foi 415\n",
      "A média de gastos em restaurantes foi de 198.75\n",
      "\n",
      "O 1° valor gasto com transporte foi 50\n",
      "O 2° valor gasto com transporte foi 15\n",
      "O 3° valor gasto com transporte foi 89\n",
      "O 4° valor gasto com transporte foi 115\n",
      "A média de gastos em transporte foi de 67.25\n",
      "\n"
     ]
    }
   ],
   "source": [
    "despesas = [('viagens',5000,15000,25000,9800),('restaurantes',230,100,50,415),('transporte',50,15,89,115)]\n",
    "\n",
    "for i in despesas:\n",
    "    local, valor1, valor2, valor3,valor4 = i\n",
    "    \n",
    "    for j in range(4):\n",
    "        j+=1\n",
    "        print(f\"O {j}° valor gasto com {local} foi {i[j]}\")\n",
    "\n",
    "    media = (valor1+valor2+valor3+valor4) /4\n",
    "    print(f\"A média de gastos em {local} foi de {media}\")\n",
    "\n",
    "    print(\"\")\n"
   ]
  },
  {
   "cell_type": "markdown",
   "metadata": {},
   "source": [
    "# Exercício 8\n",
    "Crie um programa para catalogação de livros. Utilize estrutura de repetição e tuplas.\n",
    "\n",
    "livros = [\n",
    "    (\"O Senhor dos Anéis\",\"J.R.R. Tolkien\"),\n",
    "    (\"O Hobbit\",\"J.R.R. Tolkien\"),\n",
    "    (\"1984\",\"George Orwell\")\n",
    "]"
   ]
  },
  {
   "cell_type": "code",
   "execution_count": 45,
   "metadata": {},
   "outputs": [
    {
     "name": "stdout",
     "output_type": "stream",
     "text": [
      "O nome do livro é 'O Senhor dos Anéis' do Autor: 'J.R.R. Tolkien'\n",
      "O nome do livro é 'O Hobbit' do Autor: 'J.R.R. Tolkien'\n",
      "O nome do livro é '1984' do Autor: 'George Orwell'\n"
     ]
    }
   ],
   "source": [
    "livros = [\n",
    "    (\"O Senhor dos Anéis\",\"J.R.R. Tolkien\"),\n",
    "    (\"O Hobbit\",\"J.R.R. Tolkien\"),\n",
    "    (\"1984\",\"George Orwell\")\n",
    "]\n",
    "\n",
    "for i in livros:\n",
    "    nome, autor = i\n",
    "    print(f\"O nome do livro é '{nome}' do Autor: '{autor}'\")"
   ]
  },
  {
   "cell_type": "markdown",
   "metadata": {},
   "source": [
    "# Dicionário"
   ]
  },
  {
   "cell_type": "code",
   "execution_count": 48,
   "metadata": {},
   "outputs": [
    {
     "name": "stdout",
     "output_type": "stream",
     "text": [
      "[{'Nome': 'Alice', 'Idade': 40}, {'Nome': 'Bob', 'Idade': 37}, {'Nome': 'Chris', 'Idade': 33}]\n",
      "{'Nome': 'Alice', 'Idade': 40}\n",
      "{'Nome': 'Bob', 'Idade': 37}\n",
      "{'Nome': 'Chris', 'Idade': 33}\n"
     ]
    }
   ],
   "source": [
    "estudantes = [\n",
    "    {'Nome': 'Alice','Idade':40},\n",
    "    {'Nome': 'Bob','Idade':37},\n",
    "    {'Nome': 'Chris','Idade':33}\n",
    "]\n",
    "print(estudantes)\n",
    "\n",
    "for i in estudantes:\n",
    "    print(i)"
   ]
  },
  {
   "cell_type": "code",
   "execution_count": 47,
   "metadata": {},
   "outputs": [
    {
     "name": "stdout",
     "output_type": "stream",
     "text": [
      "    nome  idade\n",
      "0  Alice     40\n",
      "1    Bob     37\n",
      "2  Chris     33\n"
     ]
    }
   ],
   "source": [
    "import pandas as pd\n",
    "\n",
    "# O DataFrame converte os dados do dicionário em uma tabela\n",
    "dados = pd.DataFrame(estudantes)\n",
    "print(dados)"
   ]
  }
 ],
 "metadata": {
  "kernelspec": {
   "display_name": "Python 3",
   "language": "python",
   "name": "python3"
  },
  "language_info": {
   "codemirror_mode": {
    "name": "ipython",
    "version": 3
   },
   "file_extension": ".py",
   "mimetype": "text/x-python",
   "name": "python",
   "nbconvert_exporter": "python",
   "pygments_lexer": "ipython3",
   "version": "3.11.9"
  }
 },
 "nbformat": 4,
 "nbformat_minor": 2
}
