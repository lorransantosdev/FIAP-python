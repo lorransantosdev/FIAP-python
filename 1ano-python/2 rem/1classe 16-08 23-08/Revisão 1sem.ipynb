{
 "cells": [
  {
   "cell_type": "markdown",
   "metadata": {},
   "source": [
    "### 1. Crie um progrma que solicite três notas para três alunos. Após isso, calcule a média de cada aluno e retorne a média global"
   ]
  },
  {
   "cell_type": "code",
   "execution_count": 16,
   "metadata": {},
   "outputs": [
    {
     "name": "stdout",
     "output_type": "stream",
     "text": [
      "10.0\n",
      "20.0\n",
      "30.0\n",
      "A media global dos alunos é de: 20.0\n"
     ]
    }
   ],
   "source": [
    "notas_aluno1 = []\n",
    "notas_aluno2 = []\n",
    "notas_aluno3 = []\n",
    "\n",
    "for k in range(3):\n",
    "    aluno1_notas = float(input(\"Notas do primeiro aluno\"));\n",
    "    aluno2_notas = float(input(\"Notas do segundo aluno\"));\n",
    "    aluno3_notas = float(input(\"Notas do Terceira aluno\"));\n",
    "\n",
    "    notas_aluno1.append(aluno1_notas);\n",
    "    notas_aluno2.append(aluno2_notas);\n",
    "    notas_aluno3.append(aluno3_notas);\n",
    "\n",
    "soma_aluno1 = 0;\n",
    "soma_aluno2 = 0;\n",
    "soma_aluno3 = 0;\n",
    "\n",
    "media_aluno1 = 0;\n",
    "media_aluno2 = 0;\n",
    "media_aluno3 = 0;\n",
    "\n",
    "for i in range(len(notas_aluno1)):\n",
    "    soma_aluno1 += notas_aluno1[i]\n",
    "    soma_aluno2 += notas_aluno2[i]\n",
    "    soma_aluno3 += notas_aluno3[i]\n",
    "\n",
    "\n",
    "media_aluno1 += (soma_aluno1 / len(notas_aluno1));\n",
    "media_aluno2 += (soma_aluno2 / len(notas_aluno2));\n",
    "media_aluno3 += (soma_aluno3 / len(notas_aluno3));\n",
    "\n",
    "print(media_aluno1);\n",
    "print(media_aluno2);\n",
    "print(media_aluno3);\n",
    "\n",
    "print(\"A media global dos alunos é de: {}\" .format((media_aluno1 + media_aluno2 + media_aluno3) / 3));\n",
    "\n",
    "    "
   ]
  },
  {
   "cell_type": "code",
   "execution_count": null,
   "metadata": {},
   "outputs": [],
   "source": [
    "cobertura = ['pepperoni', 'tomate', 'queijo', 'cebola']\n",
    "\n",
    "for cobertura_requisita in cobertura:\n",
    "\n",
    "    if cobertura_requisita == 'tomate':\n",
    "        print('Sorry, but we no are tomato');\n",
    "    else:\n",
    "        print('Add cobertura')"
   ]
  },
  {
   "cell_type": "code",
   "execution_count": 17,
   "metadata": {},
   "outputs": [
    {
     "name": "stdout",
     "output_type": "stream",
     "text": [
      "first king\n",
      "first queen\n",
      "first princess\n",
      "first duke\n",
      "second king\n",
      "second queen\n",
      "second princess\n",
      "second duke\n",
      "third king\n",
      "third queen\n",
      "third princess\n",
      "third duke\n",
      "fourth king\n",
      "fourth queen\n",
      "fourth princess\n",
      "fourth duke\n"
     ]
    }
   ],
   "source": [
    "ordem = ['first', 'second', 'third', 'fourth']\n",
    "titulo = ['king', 'queen', 'princess', 'duke']\n",
    "\n",
    "for i in ordem:\n",
    "    for k in titulo:\n",
    "        print(i,k)"
   ]
  },
  {
   "cell_type": "code",
   "execution_count": 24,
   "metadata": {},
   "outputs": [
    {
     "name": "stdout",
     "output_type": "stream",
     "text": [
      "9\n"
     ]
    }
   ],
   "source": [
    "# A TUPLA AJUDA NA ANÁLISE DE DADOS\n",
    "\n",
    "lista_nf = [(8, 80),\n",
    "            (7, 85),\n",
    "            (7.5, 90),\n",
    "            (9, 70)]\n",
    "\n",
    "\n",
    "print(lista_nf[3][0])"
   ]
  },
  {
   "cell_type": "markdown",
   "metadata": {},
   "source": [
    "###2. Crie um programa para calcular o desconto no salário em função da tabela de imposto de renda abaixo. Retorne o desconto e o salário líquido. Resolva o exercício sem e com o recuso de lista.\n",
    "\n",
    "-Faixa 1: até R$2.112: isento\n",
    "-Faixa 2: de 2112.01 ate 2826.66: 7,5%\n",
    "-Faixa 3: de 2826.67 ate 3751.06: 15%\n",
    "-Faixa 4: de 3751.07 ate 4664.68: 22,5%\n",
    "-Faixa 5: acima de 4664.68: 27,5%"
   ]
  },
  {
   "cell_type": "code",
   "execution_count": 44,
   "metadata": {},
   "outputs": [
    {
     "name": "stdout",
     "output_type": "stream",
     "text": [
      "seu salario liquido é R$300.0 e o desconto é de R$0.0\n"
     ]
    }
   ],
   "source": [
    "salario = float(input(\"Insira o seu salário\"));\n",
    "\n",
    "faixa_salario = [(2112, 0), \n",
    "                 (2826.66, 0.075), \n",
    "                 (3751.06, 0.15), \n",
    "                 (4664.68, 0.225), \n",
    "                 (float('inf'), 0.275)]\n",
    "\n",
    "salario_desconto = []\n",
    "\n",
    "for i in range(len(faixa_salario)):\n",
    "    if (salario <= faixa_salario[i][0]):\n",
    "        salario_desconto.append(salario-(salario * faixa_salario[i][1]));\n",
    "        salario_desconto.append(salario * faixa_salario[i][1]);\n",
    "        break\n",
    "\n",
    "print('seu salario liquido é R${} e o desconto é de R${}' .format(salario_desconto[0], salario_desconto[1]))\n",
    "        "
   ]
  },
  {
   "cell_type": "code",
   "execution_count": 37,
   "metadata": {},
   "outputs": [
    {
     "name": "stdout",
     "output_type": "stream",
     "text": [
      "2550.0\n"
     ]
    }
   ],
   "source": [
    "a = 3000-(3000*0.15)\n",
    "print(a)"
   ]
  },
  {
   "cell_type": "code",
   "execution_count": 4,
   "metadata": {},
   "outputs": [
    {
     "ename": "NameError",
     "evalue": "name 'desconto' is not defined",
     "output_type": "error",
     "traceback": [
      "\u001b[1;31m---------------------------------------------------------------------------\u001b[0m",
      "\u001b[1;31mNameError\u001b[0m                                 Traceback (most recent call last)",
      "Cell \u001b[1;32mIn[4], line 14\u001b[0m\n\u001b[0;32m     11\u001b[0m         desconto \u001b[38;5;241m=\u001b[39m salario \u001b[38;5;241m*\u001b[39m taxa\n\u001b[0;32m     12\u001b[0m     \u001b[38;5;28;01mbreak\u001b[39;00m\n\u001b[1;32m---> 14\u001b[0m salario_liquido \u001b[38;5;241m=\u001b[39m salario \u001b[38;5;241m-\u001b[39m \u001b[43mdesconto\u001b[49m\n\u001b[0;32m     15\u001b[0m \u001b[38;5;28mprint\u001b[39m(\u001b[38;5;124m'\u001b[39m\u001b[38;5;124mYour salario liquid is: \u001b[39m\u001b[38;5;132;01m{}\u001b[39;00m\u001b[38;5;124m and your desconto is: \u001b[39m\u001b[38;5;132;01m{}\u001b[39;00m\u001b[38;5;124m'\u001b[39m \u001b[38;5;241m.\u001b[39mformat(salario_liquido, desconto))\n",
      "\u001b[1;31mNameError\u001b[0m: name 'desconto' is not defined"
     ]
    }
   ],
   "source": [
    "salario = float(input(\"Insira o seu salário\"));\n",
    "\n",
    "lista_desconto = [(2112, 0), \n",
    "                 (2826.66, 0.075), \n",
    "                 (3751.06, 0.15), \n",
    "                 (4664.68, 0.225), \n",
    "                 (float('inf'), 0.275)]\n",
    "\n",
    "for limite, taxa in lista_desconto:\n",
    "    if salario <= limite:\n",
    "        desconto = salario * taxa\n",
    "    break\n",
    "\n",
    "salario_liquido = salario - desconto\n",
    "print('Your salario liquid is: {} and your desconto is: {}' .format(salario_liquido, desconto))"
   ]
  },
  {
   "cell_type": "markdown",
   "metadata": {},
   "source": [
    "###3. Crie uma função para o exerciocio 2"
   ]
  },
  {
   "cell_type": "code",
   "execution_count": 3,
   "metadata": {},
   "outputs": [
    {
     "name": "stdout",
     "output_type": "stream",
     "text": [
      "[5005.0]\n"
     ]
    }
   ],
   "source": [
    "vitor = []\n",
    "\n",
    "entrada = float(input(\"insira um valor\"))\n",
    "\n",
    "soma = entrada + 5\n",
    "\n",
    "vitor.append(soma)\n",
    "\n",
    "print(vitor)"
   ]
  }
 ],
 "metadata": {
  "kernelspec": {
   "display_name": "Python 3",
   "language": "python",
   "name": "python3"
  },
  "language_info": {
   "codemirror_mode": {
    "name": "ipython",
    "version": 3
   },
   "file_extension": ".py",
   "mimetype": "text/x-python",
   "name": "python",
   "nbconvert_exporter": "python",
   "pygments_lexer": "ipython3",
   "version": "3.11.9"
  }
 },
 "nbformat": 4,
 "nbformat_minor": 2
}
