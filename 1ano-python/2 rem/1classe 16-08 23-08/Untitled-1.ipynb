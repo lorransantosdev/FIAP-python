{
 "cells": [
  {
   "cell_type": "code",
   "execution_count": null,
   "metadata": {},
   "outputs": [],
   "source": [
    "lanche = ('Hambuguer', 'Suco', 'Pizza', 'Pudim')\n",
    "\n",
    "for cont in range(len(lanche)):\n",
    "    print(lanche[cont])\n",
    "\n",
    "    "
   ]
  },
  {
   "cell_type": "code",
   "execution_count": null,
   "metadata": {},
   "outputs": [],
   "source": [
    "lanche = ('Hambuguer', 'Suco', 'Pizza', 'Pudim')\n",
    "\n",
    "for pos, comida in enumerate(lanche):\n",
    "    print(f'vou comer {comida} na posição {pos}'  )"
   ]
  },
  {
   "cell_type": "code",
   "execution_count": null,
   "metadata": {},
   "outputs": [],
   "source": [
    "lanche = ('Hambuguer', 'Suco', 'Pizza', 'Pudim')\n",
    "\n",
    "print(sorted(lanche)) #não mudou a tupla, somente colocou em ordem"
   ]
  },
  {
   "cell_type": "code",
   "execution_count": null,
   "metadata": {},
   "outputs": [],
   "source": [
    "a = (2, 5, 4)\n",
    "\n",
    "b = (5, 9, 10, 8, 6)\n",
    "\n",
    "c = a + b # concatena as tuplas\n",
    "\n",
    "print(c)\n",
    "print(c.count(5)) # quantos '5' tem na tupla 'c'\n",
    "print(c.index(4)) # me diz em qual posição está o elementos (primeira aparição)"
   ]
  },
  {
   "cell_type": "code",
   "execution_count": null,
   "metadata": {},
   "outputs": [],
   "source": [
    "pessoa = ('Luana', 39, 'M', 62, 1.75)\n",
    "\n",
    "pessoa\n",
    "\n",
    "del(pessoa) # apaga a tupla toda, mas não tem como deletar um item"
   ]
  },
  {
   "cell_type": "markdown",
   "metadata": {},
   "source": [
    "#### lista de zero a 20, mostrando o numero que escreveu"
   ]
  },
  {
   "cell_type": "code",
   "execution_count": null,
   "metadata": {},
   "outputs": [],
   "source": [
    "numberExtence = ('zero', 'one', 'two', 'three', 'four', 'five', 'six', 'seven', 'eight', 'nine', 'ten', 'eleven', 'twelve', 'thirteen', 'fourteen', 'fifteen', 'sixteen', 'seventeen', 'eighteen', 'nineteen', 'twenty')\n",
    "\n",
    "numbersWrote = []\n",
    "\n",
    "while True:\n",
    "    while True:\n",
    "        choiceNumber = int(input('write a number of zero to twenty'));\n",
    "        numbersWrote.append(choiceNumber);\n",
    "        if 0<= choiceNumber <=20:\n",
    "            break\n",
    "        print('tente novamente'); #permanece  na mesma linha\n",
    "    print(f'You enter the number {numberExtence[choiceNumber]}');\n",
    "\n",
    "    toContinue = input('Would like you to continue?').lower()\n",
    "    if toContinue == 'yes':\n",
    "        continue\n",
    "    else: \n",
    "        break\n",
    "    \n",
    "print(f'You wrote the number {numbersWrote}')\n",
    "\n",
    "\n",
    " \n",
    "     \n"
   ]
  },
  {
   "cell_type": "markdown",
   "metadata": {},
   "source": [
    "##### Exemplo 1 - midias digitais \n"
   ]
  },
  {
   "cell_type": "markdown",
   "metadata": {},
   "source": [
    "##### Sabendo que a tuppla tem a informação sobre a mídia digital, quantidade likes e deislikes\n",
    "##### responda as seguintes questões:"
   ]
  },
  {
   "cell_type": "code",
   "execution_count": null,
   "metadata": {},
   "outputs": [],
   "source": [
    "dados = (('youtube', 550, 10),\n",
    "('facebook', 822, 50),\n",
    "('linkedin', 1226, 5),\n",
    "('instagram', 550000, 65))"
   ]
  },
  {
   "cell_type": "markdown",
   "metadata": {},
   "source": [
    "\n",
    "###### a. Qual a soma total de likes?\n",
    "\n",
    "###### b. Qual a soma totald e dislikes?\n",
    "\n",
    "###### c. Qual a media de likes?\n",
    "\n",
    "###### d. Qual a média de dislikes?\n",
    "\n",
    "###### e. Qual mídia apresenta maior e menor taxa de likes?\n",
    "\n",
    "###### f. Qual mídia apresenta maior e menor taxa de dislikes?\n",
    "\n",
    "###### g. Faça uma alteraçõa na tupla incluindo spotify com  968 likes e 31 dislikes e retone uma nova tupla"
   ]
  },
  {
   "cell_type": "code",
   "execution_count": null,
   "metadata": {},
   "outputs": [],
   "source": [
    "#a, b\n",
    "\n",
    "soma_likes = []\n",
    "soma_dislikes = []\n",
    "\n",
    "soma_l = 0\n",
    "soma_d = 0\n",
    "\n",
    "\n",
    "for i in dados:\n",
    "    redeSocial, likes, dislikes = i\n",
    "    soma_likes.append(likes);\n",
    "    soma_l += likes\n",
    "\n",
    "    soma_dislikes.append(dislikes);\n",
    "    soma_d += dislikes\n",
    "\n",
    "    \n",
    "print(soma_l)\n",
    "print(soma_likes)\n",
    "print(soma_d)\n",
    "print(soma_dislikes)"
   ]
  },
  {
   "cell_type": "code",
   "execution_count": null,
   "metadata": {},
   "outputs": [],
   "source": [
    "# c, d\n",
    "\n",
    "media_likes = soma_l / len(soma_likes)\n",
    "print(media_likes)\n",
    "\n",
    "media_dislikes = soma_d / len(soma_dislikes)\n",
    "print(media_dislikes)"
   ]
  },
  {
   "cell_type": "code",
   "execution_count": null,
   "metadata": {},
   "outputs": [],
   "source": [
    "# taxa de likes e dislikes  GERALL\n",
    "\n",
    "taxa_geral_likes = soma_l / (soma_l + soma_d)\n",
    "taxa_geral_dislikes = soma_d / (soma_l + soma_d)\n",
    "\n",
    "print(taxa_geral_likes)\n",
    "print(taxa_geral_dislikes)\n"
   ]
  },
  {
   "cell_type": "code",
   "execution_count": null,
   "metadata": {},
   "outputs": [],
   "source": [
    "# taxa de likes de cada elemento da tupla\n",
    "\n",
    "taxa_likes_elemento = []\n",
    "\n",
    "for i in dados:\n",
    "    midia, likes, dislikes = i\n",
    "    taxa_likes = likes / (likes + dislikes)\n",
    "    taxa_likes_elemento.append(taxa_likes)\n",
    "\n",
    "print(f\"a taxa de likes é {taxa_likes_elemento}\")\n"
   ]
  },
  {
   "cell_type": "markdown",
   "metadata": {},
   "source": [
    "1.Análise de desempenho dos times no Brasileirão 2024. Sabendo que foram coletadas informações referente os pontos, vitórias e derrotas de cada time, utilize os dados abaixo no formato tupla e responda as seguintes perguntas:\n",
    "\n",
    "a. Crie uma tupla com os dados apresentados.\n",
    "\n",
    "Fortaleza, 48, 14, 3\n",
    "Botafogo, 47, 14, 5\n",
    "Palmeiras, 44, 14, 5\n",
    "Flamengo, 44, 13, 5\n",
    "São Paulo, 41, 12, 5"
   ]
  },
  {
   "cell_type": "code",
   "execution_count": null,
   "metadata": {},
   "outputs": [],
   "source": [
    "dados_futebol = (('Fortaleza', 48, 14, 3),\n",
    "                 ('Botafogo', 47, 14, 5),\n",
    "                 ('Palmeiras', 44, 14, 5),\n",
    "                 ('Flamengo', 44, 13, 5),\n",
    "                 ('São Paulo', 41, 12, 5))"
   ]
  },
  {
   "cell_type": "markdown",
   "metadata": {},
   "source": [
    "2.Calcule a taxa de vitórias/derrotas (pontos / (pontos + derrotas)) para cada time e encontre o time com a maior e a menor taxa pontos/vitórias.\n",
    "\n",
    "Fortaleza, 48, 14, 3\n",
    "Botafogo, 47, 14, 5\n",
    "Palmeiras, 44, 14, 5\n",
    "Flamengo, 44, 13, 5\n",
    "São Paulo, 41, 12, 5\n",
    "\n",
    "b. Utilize uma estrutura de repetição para retornar um apêndice chamado taxa_pontos com a taxa de cada time."
   ]
  },
  {
   "cell_type": "code",
   "execution_count": 2,
   "metadata": {},
   "outputs": [],
   "source": [
    "dados_futebol = (('Fortaleza', 48, 14, 3),\n",
    "                 ('Botafogo', 47, 14, 5),\n",
    "                 ('Palmeiras', 44, 14, 5),\n",
    "                 ('Flamengo', 44, 13, 5),\n",
    "                 ('São Paulo', 41, 12, 5))\n",
    "\n",
    "taxa_pontos_vitoria = []\n",
    "taxa_pontos_derrota = []\n",
    "\n",
    "for i in dados_futebol:\n",
    "    time,pontos,vitorias,derrotas = i\n",
    "    pontos_vitoria = pontos / (pontos + vitorias);\n",
    "    taxa_pontos_vitoria.append((time, pontos, vitorias, derrotas, pontos_vitoria));\n",
    "\n",
    "    pontos_derrotas = pontos / (pontos + derrotas);\n",
    "    taxa_pontos_derrota.append((time, pontos, vitorias, derrotas, pontos_derrotas));\n",
    "\n",
    "maior_taxa = max(taxa_pontos_vitoria)\n",
    "menor_taxa = min(taxa_pontos_vitoria)\n",
    "\n",
    "ind_maior_taxa = taxa_pontos_vitoria.index(maior_taxa)\n",
    "ind_menor_taxa = taxa_pontos_vitoria.index(menor_taxa)\n",
    "\n",
    "result_ind_maior_taxa = taxa_pontos_vitoria[ind_maior_taxa]\n",
    "result_ind_menor_taxa = taxa_pontos_vitoria[ind_menor_taxa]"
   ]
  },
  {
   "cell_type": "markdown",
   "metadata": {},
   "source": [
    "4.Este exercício utilizará as informações da tupla do exercício 1. (1,5)\n",
    "\n",
    "a. Mostre como concatenar os dados apresentados no exercício 1 com os seguintes dados abaixo.\n",
    "\n",
    "Fluminense, 24, 6, 6\n",
    "Vitória, 22, 6, 4\n",
    "Corinthians, 22, 4, 10\n",
    "Cuiabá, 18, 4, 6\n",
    "Atlético-GO, 18, 4, 6"
   ]
  },
  {
   "cell_type": "code",
   "execution_count": 88,
   "metadata": {},
   "outputs": [
    {
     "name": "stdout",
     "output_type": "stream",
     "text": [
      "(('Fortaleza', 48, 14, 3), ('Botafogo', 47, 14, 5), ('Palmeiras', 44, 14, 5), ('Flamengo', 44, 13, 5), ('São Paulo', 41, 12, 5), ('Fluminense', 24, 6, 6), ('Vitória', 22, 6, 4), ('Corinthians', 22, 4, 10), ('Cuiabá', 18, 4, 6), 'Atlético-GO', 18, 4, 6)\n"
     ]
    }
   ],
   "source": [
    "dados_futebol = (('Fortaleza', 48, 14, 3),\n",
    "                 ('Botafogo', 47, 14, 5),\n",
    "                 ('Palmeiras', 44, 14, 5),\n",
    "                 ('Flamengo', 44, 13, 5),\n",
    "                 ('São Paulo', 41, 12, 5))\n",
    "\n",
    "outros_dados_futebol = (('Fluminense', 24, 6, 6),\n",
    "                        ('Vitória', 22, 6, 4),\n",
    "                        ('Corinthians', 22, 4, 10),\n",
    "                        ('Cuiabá', 18, 4, 6),\n",
    "                        ('Atlético-GO'), 18, 4, 6)\n",
    "\n",
    "dados_novos = dados_futebol + outros_dados_futebol\n",
    "\n",
    "print(dados_novos)"
   ]
  },
  {
   "cell_type": "markdown",
   "metadata": {},
   "source": [
    "5.Este exercício utilizará as informações da tupla do exercício 1. (0,5)\n",
    "\n",
    "b. Mostre como alterar os dados do Fluminense, incluindo 28, 7, 7. Utilize a função list para fazer estas alterações."
   ]
  },
  {
   "cell_type": "code",
   "execution_count": 91,
   "metadata": {},
   "outputs": [
    {
     "name": "stdout",
     "output_type": "stream",
     "text": [
      "(('Fortaleza', 48, 14, 3), ('Botafogo', 47, 14, 5), ('Palmeiras', 44, 14, 5), ('Flamengo', 44, 13, 5), ('São Paulo', 41, 12, 5), ('Fluminense', 28, 7, 7), ('Vitória', 22, 6, 4), ('Corinthians', 22, 4, 10), ('Cuiabá', 18, 4, 6), 'Atlético-GO', 18, 4, 6)\n"
     ]
    }
   ],
   "source": [
    "dados_novos_lista = list(dados_novos)\n",
    "dados_novos_lista[5] = 'Fluminense', 28, 7, 7\n",
    "dados_novos_tupla = tuple(dados_novos_lista)\n",
    "print(dados_novos_tupla)\n",
    "\n",
    "\n",
    "\n",
    "\n"
   ]
  },
  {
   "cell_type": "markdown",
   "metadata": {},
   "source": [
    "Este exercício utilizará as informações da tupla do exercício 1. (0,5)\n",
    "\n",
    "c. Mostre o total de pontos, vitórias e derrotas."
   ]
  },
  {
   "cell_type": "code",
   "execution_count": null,
   "metadata": {},
   "outputs": [],
   "source": [
    "dados_novos_tupla = tuple(dados_novos_lista)\n",
    "\n",
    "print(dados_novos_tupla)"
   ]
  },
  {
   "cell_type": "code",
   "execution_count": 90,
   "metadata": {},
   "outputs": [
    {
     "name": "stdout",
     "output_type": "stream",
     "text": [
      "224\n",
      "67\n",
      "23\n"
     ]
    }
   ],
   "source": [
    "dados_futebol = (('Fortaleza', 48, 14, 3),\n",
    "                 ('Botafogo', 47, 14, 5),\n",
    "                 ('Palmeiras', 44, 14, 5),\n",
    "                 ('Flamengo', 44, 13, 5),\n",
    "                 ('São Paulo', 41, 12, 5))\n",
    "\n",
    "soma_pontos = 0\n",
    "soma_vitorias = 0\n",
    "soma_derrotas = 0\n",
    "\n",
    "for i in dados_futebol:\n",
    "    time,pontos,vitorias,derrotas = i\n",
    "\n",
    "    soma_pontos += pontos\n",
    "    soma_vitorias += vitorias\n",
    "    soma_derrotas += derrotas\n",
    "\n",
    "print(soma_pontos)\n",
    "print(soma_vitorias)\n",
    "print(soma_derrotas)\n",
    "\n"
   ]
  },
  {
   "cell_type": "code",
   "execution_count": 94,
   "metadata": {},
   "outputs": [
    {
     "ename": "TypeError",
     "evalue": "'tuple' object does not support item assignment",
     "output_type": "error",
     "traceback": [
      "\u001b[1;31m---------------------------------------------------------------------------\u001b[0m",
      "\u001b[1;31mTypeError\u001b[0m                                 Traceback (most recent call last)",
      "Cell \u001b[1;32mIn[94], line 4\u001b[0m\n\u001b[0;32m      2\u001b[0m tupla \u001b[38;5;241m=\u001b[39m (\u001b[38;5;241m1\u001b[39m, \u001b[38;5;241m2\u001b[39m, \u001b[38;5;241m3\u001b[39m)\n\u001b[0;32m      3\u001b[0m lista[\u001b[38;5;241m0\u001b[39m] \u001b[38;5;241m=\u001b[39m \u001b[38;5;241m0\u001b[39m\n\u001b[1;32m----> 4\u001b[0m \u001b[43mtupla\u001b[49m\u001b[43m[\u001b[49m\u001b[38;5;241;43m0\u001b[39;49m\u001b[43m]\u001b[49m \u001b[38;5;241m=\u001b[39m \u001b[38;5;241m2\u001b[39m\n\u001b[0;32m      5\u001b[0m \u001b[38;5;28mprint\u001b[39m(lista)\n\u001b[0;32m      6\u001b[0m \u001b[38;5;28mprint\u001b[39m(tupla)\n",
      "\u001b[1;31mTypeError\u001b[0m: 'tuple' object does not support item assignment"
     ]
    }
   ],
   "source": [
    "lista = [1, 2, 3]\n",
    "tupla = (1, 2, 3)\n",
    "lista[0] = 0\n",
    "tupla[0] = 2\n",
    "print(lista)\n",
    "print(tupla)"
   ]
  }
 ],
 "metadata": {
  "kernelspec": {
   "display_name": "Python 3",
   "language": "python",
   "name": "python3"
  },
  "language_info": {
   "codemirror_mode": {
    "name": "ipython",
    "version": 3
   },
   "file_extension": ".py",
   "mimetype": "text/x-python",
   "name": "python",
   "nbconvert_exporter": "python",
   "pygments_lexer": "ipython3",
   "version": "3.11.9"
  }
 },
 "nbformat": 4,
 "nbformat_minor": 2
}
