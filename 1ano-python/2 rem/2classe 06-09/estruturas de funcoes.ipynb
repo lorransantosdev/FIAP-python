{
 "cells": [
  {
   "cell_type": "markdown",
   "metadata": {},
   "source": [
    "##### Estrutura com função def"
   ]
  },
  {
   "cell_type": "code",
   "execution_count": 43,
   "metadata": {},
   "outputs": [],
   "source": [
    "#Ex.1 - Operação soma\n",
    "\n",
    "def soma_sub(a, b, c, d):\n",
    "    \"Função para realizar soma entre 4 numeros\"\n",
    "\n",
    "    somar = a + b + c + d\n",
    "    sub = a - b - c - d\n",
    "\n",
    "    return somar, sub"
   ]
  },
  {
   "cell_type": "code",
   "execution_count": 44,
   "metadata": {},
   "outputs": [
    {
     "name": "stdout",
     "output_type": "stream",
     "text": [
      "110\n",
      "-90\n"
     ]
    }
   ],
   "source": [
    "# Separar os resultados do return\n",
    "\n",
    "soma, subtracao = soma_sub(10, 20, 30, 50)\n",
    "print(soma)\n",
    "print(subtracao)"
   ]
  },
  {
   "cell_type": "markdown",
   "metadata": {},
   "source": [
    "#### Exercise\n",
    "\n",
    "##### 2. Crie uma função que retorne as seguintes operações (soma, subtração, divisão e multiplicação). Crie uma estrutura a qual retorne os resultados separados. Utilize 4 numeros.\n",
    "\n",
    "##### 3. Crie uma função que retorne a soma e média de uma lista. Lista = [10, 20, 30, 40, 50]\n",
    "\n",
    "##### 4. Crie uma função para retornar a soma e média de cada lista, além da soma e éida as tres listas.\n",
    "##### lista1 = [10, 20, 30, 40, 50];\n",
    "##### lista2 = [5, 10, 15, 20, 25, 30, 35, 40, 45, 50];\n",
    "##### lista3 = [5, 10, 15, 20, 25, 30, 35, 40, 45, 50, 55, 60, 65, 70];"
   ]
  },
  {
   "cell_type": "code",
   "execution_count": 45,
   "metadata": {},
   "outputs": [
    {
     "name": "stdout",
     "output_type": "stream",
     "text": [
      "100\n",
      "-80\n",
      "0.00041666666666666664\n",
      "240000\n"
     ]
    }
   ],
   "source": [
    "# 2. Crie uma função que retorne as seguintes operações (soma, subtração, divisão e multiplicação). Crie uma estrutura a qual retorne os resultados separados. Utilize 4 numeros.\n",
    "\n",
    "def operations(a, b, c, d):\n",
    "    \"Create a function that do matematic operations\"\n",
    "\n",
    "    soma = a + b + c + d\n",
    "    sub = a - b - c - d\n",
    "    divisao = a / b / c / d\n",
    "    mult = a * b * c * d\n",
    "\n",
    "    return soma, sub, divisao, mult\n",
    "\n",
    "soma, sub, divisao, mult = operations(10, 20, 30, 40)\n",
    "\n",
    "print(soma)\n",
    "print(sub)\n",
    "print(divisao)\n",
    "print(mult)\n"
   ]
  },
  {
   "cell_type": "code",
   "execution_count": 48,
   "metadata": {},
   "outputs": [
    {
     "name": "stdout",
     "output_type": "stream",
     "text": [
      "150\n",
      "30.0\n"
     ]
    }
   ],
   "source": [
    "# 3. Crie uma função que retorne a soma e média de uma lista. Lista = [10, 20, 30, 40, 50]\n",
    "\n",
    "lista = [10, 20, 30, 40, 50]\n",
    "\n",
    "def soma_media(lista):\n",
    "    \n",
    "    soma = 0\n",
    "\n",
    "    for i in lista:\n",
    "        soma += i\n",
    "\n",
    "    media = soma / len(lista)\n",
    "\n",
    "    return soma, media \n",
    "\n",
    "soma, media = soma_media(lista)\n",
    "\n",
    "print(soma)\n",
    "print(media)\n"
   ]
  },
  {
   "cell_type": "code",
   "execution_count": 49,
   "metadata": {},
   "outputs": [
    {
     "data": {
      "text/plain": [
       "(150, 30.0, 275, 27.5, 525, 37.5, 950, 316.6666666666667)"
      ]
     },
     "execution_count": 49,
     "metadata": {},
     "output_type": "execute_result"
    }
   ],
   "source": [
    "lista1 = [10, 20, 30, 40, 50];\n",
    "lista2 = [5, 10, 15, 20, 25, 30, 35, 40, 45, 50];\n",
    "lista3 = [5, 10, 15, 20, 25, 30, 35, 40, 45, 50, 55, 60, 65, 70];\n",
    "\n",
    "def soma_media_lists(lista1, lista2, lista3):\n",
    "\n",
    "    somaL1 = sum(lista1)\n",
    "    mediaL1 = somaL1 / len(lista1)\n",
    "\n",
    "    somaL2 = sum(lista2)\n",
    "    mediaL2 = somaL2 / len(lista2)\n",
    "\n",
    "    somaL3 = sum(lista3)\n",
    "    mediaL3 = somaL3 / len(lista3)\n",
    "\n",
    "    soma_listas = somaL1 + somaL2 + somaL3\n",
    "    media_listas = soma_listas / 3\n",
    "\n",
    "    return somaL1, mediaL1, somaL2, mediaL2, somaL3, mediaL3, soma_listas, media_listas\n",
    "\n",
    "soma_media_lists(lista1, lista2, lista3)\n",
    "    "
   ]
  },
  {
   "cell_type": "code",
   "execution_count": null,
   "metadata": {},
   "outputs": [],
   "source": []
  }
 ],
 "metadata": {
  "kernelspec": {
   "display_name": "Python 3",
   "language": "python",
   "name": "python3"
  },
  "language_info": {
   "codemirror_mode": {
    "name": "ipython",
    "version": 3
   },
   "file_extension": ".py",
   "mimetype": "text/x-python",
   "name": "python",
   "nbconvert_exporter": "python",
   "pygments_lexer": "ipython3",
   "version": "3.11.9"
  }
 },
 "nbformat": 4,
 "nbformat_minor": 2
}
