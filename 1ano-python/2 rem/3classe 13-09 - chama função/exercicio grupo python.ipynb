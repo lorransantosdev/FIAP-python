{
 "cells": [
  {
   "cell_type": "code",
   "execution_count": 3,
   "metadata": {},
   "outputs": [
    {
     "data": {
      "text/plain": [
       "[30.0, -10.0, 200.0, 0.5]"
      ]
     },
     "execution_count": 3,
     "metadata": {},
     "output_type": "execute_result"
    }
   ],
   "source": [
    "def somar(a, b):\n",
    "    \"função que calcula a soma \"\n",
    "    \n",
    "    soma = a + b\n",
    "    return soma\n",
    "\n",
    "def subtracao(c, d):\n",
    "    \"função que calcula a subtração dos numeros\"\n",
    "\n",
    "    sub = c - d\n",
    "    return sub\n",
    "\n",
    "def multiplicacao(e, f):\n",
    "    \"função que calcula a multiplicação\"\n",
    "\n",
    "    mult = e * f\n",
    "    return mult\n",
    "\n",
    "def divisao(g, h):\n",
    "    \"função que calcula a divisão\"\n",
    "\n",
    "    div = g / h\n",
    "    return div\n",
    "\n",
    "def main(x, y):\n",
    "    \"função que organiza a ordem e valores das outras funções\"\n",
    "\n",
    "    resultados = []\n",
    "\n",
    "    resultados.append(somar(x, y)) \n",
    "    resultados.append(subtracao(x, y))\n",
    "    resultados.append(multiplicacao(x, y)) \n",
    "    resultados.append(divisao(x, y))\n",
    "\n",
    "    return resultados\n",
    "\n",
    "num1 = float(input(\"escreva o primeiro valor\"))\n",
    "num2 = float(input(\"escreva o segundo valor\"))\n",
    "\n",
    "main(num1, num2)"
   ]
  },
  {
   "cell_type": "code",
   "execution_count": null,
   "metadata": {},
   "outputs": [],
   "source": [
    "numeros_solicitados = []\n",
    "\n",
    "def solicitar_numero():\n",
    "    \"função que solicita numeros para o usuario ate ele digitar 'fim'\"\n",
    "\n",
    "    while True:\n",
    "        solicitacao = float(input(\"insira um numero\"))\n",
    "        numeros_solicitados.append(solicitacao)\n",
    "\n",
    "        continuar = input(\"deseja continuar, se não digite 'fim'\").lower()\n",
    "\n",
    "        if continuar == 'fim':\n",
    "            break\n",
    "        \n",
    "    return numeros_solicitados\n",
    "\n",
    "def calculadora_media():\n",
    "    \"função que calcula as medias\"\n",
    "\n",
    "    soma_lista = 0\n",
    "    \n",
    "    for i in numeros_solicitados:\n",
    "        soma_lista += i\n",
    "\n",
    "    if len(numeros_solicitados) > 0:\n",
    "        media_lista = soma_lista / len(numeros_solicitados)\n",
    "    else: \n",
    "        media_lista = 0\n",
    "\n",
    "    return media_lista\n",
    "\n",
    "solicitar_numero()\n",
    "media = calculadora_media()\n",
    "print(f\"a media dos valores da lista é {media}\")"
   ]
  }
 ],
 "metadata": {
  "kernelspec": {
   "display_name": "Python 3",
   "language": "python",
   "name": "python3"
  },
  "language_info": {
   "codemirror_mode": {
    "name": "ipython",
    "version": 3
   },
   "file_extension": ".py",
   "mimetype": "text/x-python",
   "name": "python",
   "nbconvert_exporter": "python",
   "pygments_lexer": "ipython3",
   "version": "3.11.9"
  }
 },
 "nbformat": 4,
 "nbformat_minor": 2
}
