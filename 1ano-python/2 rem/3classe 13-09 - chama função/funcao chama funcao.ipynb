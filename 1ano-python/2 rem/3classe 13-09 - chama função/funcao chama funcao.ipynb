{
 "cells": [
  {
   "cell_type": "code",
   "execution_count": 2,
   "metadata": {},
   "outputs": [
    {
     "name": "stdout",
     "output_type": "stream",
     "text": [
      "60\n",
      "30.0\n"
     ]
    }
   ],
   "source": [
    "def soma(a, b):\n",
    "    \"função soma\"\n",
    "    soma = a + b\n",
    "    return soma\n",
    "\n",
    "def media(a, b):\n",
    "    \"função média\"\n",
    "    media = soma(a, b) / 2 #get the fucntion up with paraments identic\n",
    "    return media\n",
    "\n",
    "\n",
    "print(soma(10,50)) #no necessary\n",
    "print(media(10,50)) "
   ]
  },
  {
   "cell_type": "markdown",
   "metadata": {},
   "source": [
    "##### Criar um função que retorna a soma dos quadrados"
   ]
  },
  {
   "cell_type": "code",
   "execution_count": 1,
   "metadata": {},
   "outputs": [
    {
     "data": {
      "text/plain": [
       "2929"
      ]
     },
     "execution_count": 1,
     "metadata": {},
     "output_type": "execute_result"
    }
   ],
   "source": [
    "def eleva_quadrado(x):\n",
    "    \"função eleva ao quadrado\"\n",
    "    y = x**2\n",
    "    return y\n",
    "\n",
    "def soma_quadrado(a, b, c, d, e):\n",
    "    \"função que soma os numeros que estão ao quadrado\"\n",
    "    x = eleva_quadrado(a)\n",
    "    y = eleva_quadrado(b)\n",
    "    z = eleva_quadrado(c)\n",
    "    w = eleva_quadrado(d)\n",
    "    l = eleva_quadrado(e)\n",
    "\n",
    "    soma = x + y + z + w + l\n",
    "    return soma\n",
    "\n",
    "soma_quadrado(5, 20, 30, 40, 2)\n",
    "\n"
   ]
  },
  {
   "cell_type": "markdown",
   "metadata": {},
   "source": [
    "##### Função para calcular a área de um retangulo"
   ]
  },
  {
   "cell_type": "code",
   "execution_count": 2,
   "metadata": {},
   "outputs": [
    {
     "name": "stdout",
     "output_type": "stream",
     "text": [
      "A área do retângulo é -  600.0\n"
     ]
    }
   ],
   "source": [
    "def area(comprimento, largura):\n",
    "    \"Função que calcula a área de um retângulo\"\n",
    "\n",
    "    area_ret = comprimento * largura\n",
    "\n",
    "    return area_ret\n",
    "\n",
    "def mostra_area():\n",
    "    \"Função para printar o resultado\"\n",
    "\n",
    "    print(\"A área do retângulo é - \", ar)\n",
    "\n",
    "l = float(input(\"Enter the cumpriment\"))\n",
    "c = float(input(\"Enter the witdh\"))\n",
    "\n",
    "ar = area(l, c)\n",
    "mostra_area()"
   ]
  },
  {
   "cell_type": "markdown",
   "metadata": {},
   "source": [
    "##### Função para calcular a área de um circulo e retornar as seguintes informações"
   ]
  },
  {
   "cell_type": "markdown",
   "metadata": {},
   "source": [
    "###### a) area > 100 - grande_area\n",
    "###### b) area > 50 - area_media\n",
    "###### c) area < 50 - area_pequena"
   ]
  },
  {
   "cell_type": "code",
   "execution_count": 15,
   "metadata": {},
   "outputs": [
    {
     "data": {
      "text/plain": [
       "'Area grande'"
      ]
     },
     "execution_count": 15,
     "metadata": {},
     "output_type": "execute_result"
    }
   ],
   "source": [
    "def area_circulo(raio):\n",
    "    \"Função que calcula a area do circulo\"\n",
    "\n",
    "    circulo = 3.14 * (raio ** 2)\n",
    "\n",
    "    return circulo\n",
    "\n",
    "\n",
    "def status_circulo(area):\n",
    "    \"Função que mostra a area\"\n",
    "\n",
    "    if area > 100:\n",
    "        return \"Area grande\"\n",
    "    elif area > 50:\n",
    "        return \"Área media\"\n",
    "    else:\n",
    "        return \"Área pequena\"\n",
    "\n",
    "r = float(input(\"Insira o raio do circulo\"))\n",
    "\n",
    "status_circulo(area_circulo(r))\n",
    "        "
   ]
  },
  {
   "cell_type": "markdown",
   "metadata": {},
   "source": [
    "##### Ex. 5"
   ]
  },
  {
   "cell_type": "code",
   "execution_count": 16,
   "metadata": {},
   "outputs": [],
   "source": [
    "def multiplica(a, b):\n",
    "\n",
    "    mult = a * b\n",
    "\n",
    "    return mult\n",
    "\n",
    "def multiplicar_lista(lista1, lista2):\n",
    "\n",
    "    produtos = []\n",
    "\n",
    "    for i in range(len(lista1)):\n",
    "\n",
    "        produtos.append(multiplica(lista1[i], lista2[i]))\n",
    "\n",
    "        return produtos\n",
    "    \n",
    "listaA = [1, 3, 6, 9]\n",
    "listaB = [3, 2, 5, 10]\n",
    "\n",
    "resultado = multiplicar_lista(listaA, listaB)\n",
    "print(resultado)"
   ]
  },
  {
   "cell_type": "markdown",
   "metadata": {},
   "source": [
    "##### Exercicio 1 - Crie um algoritmo utilizando função dentro de função que faz as quatro opearações básicas (soma, substração, multiplicação e divisão)"
   ]
  },
  {
   "cell_type": "code",
   "execution_count": 22,
   "metadata": {},
   "outputs": [
    {
     "data": {
      "text/plain": [
       "[30.0, -10.0, 200.0, 0.5]"
      ]
     },
     "execution_count": 22,
     "metadata": {},
     "output_type": "execute_result"
    }
   ],
   "source": [
    "def somar(a, b):\n",
    "    \"função que calcula a soma \"\n",
    "    \n",
    "    soma = a + b\n",
    "    return soma\n",
    "\n",
    "def subtracao(c, d):\n",
    "    \"função que calcula a subtração dos numeros\"\n",
    "\n",
    "    sub = c - d\n",
    "    return sub\n",
    "\n",
    "def multiplicacao(e, f):\n",
    "    \"função que calcula a multiplicação\"\n",
    "\n",
    "    mult = e * f\n",
    "    return mult\n",
    "\n",
    "def divisao(g, h):\n",
    "    \"função que calcula a divisão\"\n",
    "\n",
    "    div = g / h\n",
    "    return div\n",
    "\n",
    "def main(x, y):\n",
    "    \"função que organiza a ordem e valores das outras funções\"\n",
    "\n",
    "    resultados = []\n",
    "\n",
    "    resultados.append(somar(x, y)) \n",
    "    resultados.append(subtracao(x, y))\n",
    "    resultados.append(multiplicacao(x, y)) \n",
    "    resultados.append(divisao(x, y))\n",
    "\n",
    "    return resultados\n",
    "\n",
    "num1 = float(input(\"escreva o primeiro valor\"))\n",
    "num2 = float(input(\"escreva o segundo valor\"))\n",
    "\n",
    "main(num1, num2)"
   ]
  },
  {
   "cell_type": "markdown",
   "metadata": {},
   "source": [
    "##### Exercicio 2 - Crie uma calculadora de média solicitando numero para o usuario até que ele digite 'fim'. Crie função para solicitar a informação para o usuario, em seguida, crie outra função para apresentar a media ddeste valores."
   ]
  },
  {
   "cell_type": "code",
   "execution_count": 51,
   "metadata": {},
   "outputs": [
    {
     "name": "stdout",
     "output_type": "stream",
     "text": [
      "a media dos valores da lista é 25.0\n"
     ]
    }
   ],
   "source": [
    "numeros_solicitados = []\n",
    "\n",
    "def solicitar_numero():\n",
    "    \"função que solicita numeros para o usuario ate ele digitar 'fim'\"\n",
    "\n",
    "    while continuar != 'fim':\n",
    "        solicitacao = float(input(\"insira um numero\"))\n",
    "        numeros_solicitados.append(solicitacao)\n",
    "\n",
    "        continuar = input(\"deseja continuar, se não digite 'fim'\").lower()\n",
    "        \n",
    "    return numeros_solicitados\n",
    "\n",
    "def calculadora_media():\n",
    "    \"função que calcula as medias\"\n",
    "\n",
    "    soma_lista = 0\n",
    "    \n",
    "    for i in numeros_solicitados:\n",
    "        soma_lista += i\n",
    "\n",
    "    if len(numeros_solicitados) > 0:\n",
    "        media_lista = soma_lista / len(numeros_solicitados)\n",
    "    else: \n",
    "        media_lista = 0\n",
    "\n",
    "    return media_lista\n",
    "\n",
    "solicitar_numero()\n",
    "media = calculadora_media()\n",
    "print(f\"a media dos valores da lista é {media}\")"
   ]
  }
 ],
 "metadata": {
  "kernelspec": {
   "display_name": "Python 3",
   "language": "python",
   "name": "python3"
  },
  "language_info": {
   "codemirror_mode": {
    "name": "ipython",
    "version": 3
   },
   "file_extension": ".py",
   "mimetype": "text/x-python",
   "name": "python",
   "nbconvert_exporter": "python",
   "pygments_lexer": "ipython3",
   "version": "3.11.9"
  }
 },
 "nbformat": 4,
 "nbformat_minor": 2
}
