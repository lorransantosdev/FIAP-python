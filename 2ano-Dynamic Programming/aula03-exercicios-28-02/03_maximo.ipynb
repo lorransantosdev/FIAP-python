{
 "cells": [
  {
   "cell_type": "code",
   "execution_count": 1,
   "metadata": {},
   "outputs": [
    {
     "name": "stderr",
     "output_type": "stream",
     "text": [
      "test_maximo2 (__main__.TestStringMethods.test_maximo2) ... ok\n",
      "test_maximo3 (__main__.TestStringMethods.test_maximo3) ... ok\n",
      "test_maximo4 (__main__.TestStringMethods.test_maximo4) ... ok\n",
      "test_maximo5 (__main__.TestStringMethods.test_maximo5) ... ok\n",
      "\n",
      "----------------------------------------------------------------------\n",
      "Ran 4 tests in 0.003s\n",
      "\n",
      "OK\n"
     ]
    }
   ],
   "source": [
    "\n",
    "'''\n",
    "defina uma funcao maximo2 que recebe dois numeros e retorna o maior deles\n",
    "'''\n",
    "def maximo2(a,b):\n",
    "    return max(a,b)\n",
    "\n",
    "'''\n",
    "defina uma funcao maximo3 que recebe três numeros e retorna o maior deles\n",
    "'''\n",
    "def maximo3(a,b,c):\n",
    "    return max(a,b,c)\n",
    "\n",
    "'''\n",
    "defina uma funcao maximo4 que recebe quatro numeros e retorna o maior deles\n",
    "'''\n",
    "def maximo4(a,b,c,d):\n",
    "    return max(a,b,c,d)\n",
    "\n",
    "'''\n",
    "defina uma funcao maximo5 que recebe cinco numeros e retorna o maior deles\n",
    "'''\n",
    "def maximo5(a,b,c,d,e):\n",
    "    return max(a,b,c,d,e)\n",
    "\n",
    "import unittest\n",
    "\n",
    "class TestStringMethods(unittest.TestCase):\n",
    "    \n",
    "    def test_maximo2(self):\n",
    "        self.assertEqual(maximo2(1,2),2)\n",
    "        self.assertEqual(maximo2(3,2),3)\n",
    "        self.assertEqual(maximo2(-1,-2),-1)\n",
    "        self.assertEqual(maximo2(-1,2),2)\n",
    "    \n",
    "    def test_maximo3(self):\n",
    "        self.assertEqual(maximo3(1,2,3),3)\n",
    "        self.assertEqual(maximo3(10,2,3),10)\n",
    "        self.assertEqual(maximo3(1,20,3),20)\n",
    "    \n",
    "    def test_maximo4(self):\n",
    "        self.assertEqual(maximo4(1,2,3,4),4)\n",
    "        self.assertEqual(maximo4(10,2,3,4),10)\n",
    "        self.assertEqual(maximo4(1,20,3,4),20)\n",
    "        self.assertEqual(maximo4(1,2,30,4),30)\n",
    "    \n",
    "    def test_maximo5(self):\n",
    "        self.assertEqual(maximo5(10,2,3,4,5),10)\n",
    "        self.assertEqual(maximo5(1,20,3,4,5),20)\n",
    "        self.assertEqual(maximo5(1,2,30,4,5),30)\n",
    "        self.assertEqual(maximo5(1,2,3,40,5),40)\n",
    "        self.assertEqual(maximo5(1,2,3,4,50),50)\n",
    "\n",
    "    \n",
    "\n",
    "def runTests():\n",
    "        suite = unittest.defaultTestLoader.loadTestsFromTestCase(TestStringMethods)\n",
    "        unittest.TextTestRunner(verbosity=2,failfast=True).run(suite)\n",
    "\n",
    "runTests()"
   ]
  }
 ],
 "metadata": {
  "kernelspec": {
   "display_name": "Python 3",
   "language": "python",
   "name": "python3"
  },
  "language_info": {
   "codemirror_mode": {
    "name": "ipython",
    "version": 3
   },
   "file_extension": ".py",
   "mimetype": "text/x-python",
   "name": "python",
   "nbconvert_exporter": "python",
   "pygments_lexer": "ipython3",
   "version": "3.12.3"
  }
 },
 "nbformat": 4,
 "nbformat_minor": 2
}
